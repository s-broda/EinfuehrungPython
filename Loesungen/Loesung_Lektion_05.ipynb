{
 "cells": [
  {
   "cell_type": "markdown",
   "id": "d04c43f8",
   "metadata": {},
   "source": [
    "### Fläche"
   ]
  },
  {
   "cell_type": "code",
   "execution_count": null,
   "id": "d05a9da8",
   "metadata": {},
   "outputs": [],
   "source": [
    "def area(a, b=None):\n",
    "    \"\"\"Berechnet die Fläche eines Rechtecks. Wenn das zweite Argument nicht angegeben ist, wird ein Quadrat angenommen.\"\"\"\n",
    "    if b == None:\n",
    "        b = a\n",
    "    return a * b"
   ]
  },
  {
   "cell_type": "markdown",
   "id": "6bd67604",
   "metadata": {},
   "source": [
    "### Alternative Implementierung"
   ]
  },
  {
   "cell_type": "code",
   "execution_count": null,
   "id": "e58f6124",
   "metadata": {},
   "outputs": [],
   "source": [
    "def area(a, b=None):\n",
    "    \"\"\"Berechnet die Fläche eines Rechtecks. Wenn das zweite Argument nicht angegeben ist, wird ein Quadrat angenommen.\"\"\"\n",
    "    if b: # gleichbedeutend mit `if b != None`\n",
    "        return a * b\n",
    "    else:\n",
    "        return a * a\n",
    "   "
   ]
  },
  {
   "cell_type": "code",
   "execution_count": null,
   "id": "61c6a67b",
   "metadata": {},
   "outputs": [],
   "source": [
    "area(2, 3)"
   ]
  },
  {
   "cell_type": "code",
   "execution_count": null,
   "id": "ae27b2e9",
   "metadata": {},
   "outputs": [],
   "source": [
    "area(2)"
   ]
  },
  {
   "cell_type": "code",
   "execution_count": null,
   "id": "e2a153a8",
   "metadata": {},
   "outputs": [],
   "source": [
    "help(area)"
   ]
  }
 ],
 "metadata": {
  "kernelspec": {
   "display_name": "Python [conda env:base] *",
   "language": "python",
   "name": "conda-base-py"
  },
  "language_info": {
   "codemirror_mode": {
    "name": "ipython",
    "version": 3
   },
   "file_extension": ".py",
   "mimetype": "text/x-python",
   "name": "python",
   "nbconvert_exporter": "python",
   "pygments_lexer": "ipython3",
   "version": "3.13.5"
  }
 },
 "nbformat": 4,
 "nbformat_minor": 5
}
