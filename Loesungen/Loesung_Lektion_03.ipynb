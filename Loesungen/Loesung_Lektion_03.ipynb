{
 "cells": [
  {
   "cell_type": "markdown",
   "id": "8f170f80",
   "metadata": {},
   "source": [
    "# BMI"
   ]
  },
  {
   "cell_type": "code",
   "execution_count": null,
   "id": "162ad793",
   "metadata": {},
   "outputs": [],
   "source": [
    "weight = float(input(\"Geben Sie Ihr Gewicht in kg ein: \"))\n",
    "height = float(input(\"Geben Sie Ihre Größe in m ein: \"))\n",
    "BMI = weight / height ** 2\n",
    "if BMI < 18.5:\n",
    "    print(\"Sie sind untergewichtig.\")\n",
    "elif BMI < 25:\n",
    "    print(\"Ihr Gewicht ist gesund.\")\n",
    "elif BMI < 30:\n",
    "    print(\"Sie sind übergewichtig.\")\n",
    "else:\n",
    "    print(\"Sie sind fettleibig.\")\n"
   ]
  }
 ],
 "metadata": {
  "kernelspec": {
   "display_name": "Python [conda env:base] *",
   "language": "python",
   "name": "conda-base-py"
  },
  "language_info": {
   "codemirror_mode": {
    "name": "ipython",
    "version": 3
   },
   "file_extension": ".py",
   "mimetype": "text/x-python",
   "name": "python",
   "nbconvert_exporter": "python",
   "pygments_lexer": "ipython3",
   "version": "3.13.5"
  }
 },
 "nbformat": 4,
 "nbformat_minor": 5
}
