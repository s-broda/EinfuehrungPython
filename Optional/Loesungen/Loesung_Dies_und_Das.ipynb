{
 "cells": [
  {
   "cell_type": "markdown",
   "id": "a1e175fc",
   "metadata": {},
   "source": [
    "# Übersetzung mit Wörterbüchern"
   ]
  },
  {
   "cell_type": "markdown",
   "id": "ec01fffb",
   "metadata": {},
   "source": [
    "Die folgenden Wörterbücher sind gegeben:"
   ]
  },
  {
   "cell_type": "code",
   "execution_count": null,
   "id": "9c1ecc5e",
   "metadata": {},
   "outputs": [],
   "source": [
    "en_de = {\"red\" : \"rot\", \"green\" : \"grün\", \"blue\" : \"blau\", \"yellow\" :\"gelb\"}\n",
    "de_fr = {\"rot\" : \"rouge\", \"grün\" : \"vert\", \"blau\" : \"bleu\", \"gelb\" :\"jaune\"}"
   ]
  },
  {
   "cell_type": "markdown",
   "id": "33be5370",
   "metadata": {},
   "source": [
    "(Beispiel von https://python-course.eu/python-tutorial/dictionaries.php).\n",
    "\n",
    "Wie kann man \"red\" von Englisch nach Französisch übersetzen?"
   ]
  },
  {
   "cell_type": "markdown",
   "id": "0c59426e",
   "metadata": {},
   "source": [
    "## Lösung\n",
    "### Ausführliche Form"
   ]
  },
  {
   "cell_type": "code",
   "execution_count": null,
   "id": "38482b89",
   "metadata": {},
   "outputs": [],
   "source": [
    "to_translate = \"red\" # Zu übersetzendes Wort\n",
    "in_german = en_de[\"red\"] # Übersetzung ins Deutsche\n",
    "print(in_german) # Ausgabe des deutschen Wortes\n",
    "in_french = de_fr[in_german] # Übersetzung vom Deutschen ins Französische\n",
    "print(in_french) # Ausgabe des französischen Wortes"
   ]
  },
  {
   "cell_type": "markdown",
   "id": "fc49d5ad",
   "metadata": {},
   "source": [
    "### Kurze Form"
   ]
  },
  {
   "cell_type": "code",
   "execution_count": null,
   "id": "ad69e545",
   "metadata": {},
   "outputs": [],
   "source": [
    "de_fr[en_de[\"red\"]] # Direktes Nachschlagen: Englisch zu Deutsch, dann Deutsch zu Französisch"
   ]
  },
  {
   "cell_type": "markdown",
   "id": "33fb4c20",
   "metadata": {},
   "source": [
    "# List Comprehensions"
   ]
  },
  {
   "cell_type": "markdown",
   "id": "130a3656",
   "metadata": {},
   "source": [
    "## `for`-Schleife"
   ]
  },
  {
   "cell_type": "code",
   "execution_count": null,
   "id": "86de116c",
   "metadata": {},
   "outputs": [],
   "source": [
    "mylist = [] # Initialisierung einer leeren Liste\n",
    "for i in range(0, 51): # Iteration über Zahlen von 0 bis 50\n",
    "    if i%2 != 0: # Prüfung auf ungerade Zahlen\n",
    "        mylist.append(i) # Hinzufügen ungerader Zahlen zur Liste\n",
    "print(mylist) # Ausgabe der Liste"
   ]
  },
  {
   "cell_type": "markdown",
   "id": "b08b8b3e",
   "metadata": {},
   "source": [
    "## List Comprehension"
   ]
  },
  {
   "cell_type": "code",
   "execution_count": null,
   "id": "0777de56",
   "metadata": {},
   "outputs": [],
   "source": [
    "[i for i in range(0, 51) if i%2 != 0] # List Comprehension für ungerade Zahlen von 0 bis 50\n",
    "print(mylist) # Ausgabe der Liste"
   ]
  },
  {
   "cell_type": "markdown",
   "id": "7c0ee392",
   "metadata": {},
   "source": [
    "# Zahlensuchspiel\n",
    "## Erste Lösung"
   ]
  },
  {
   "cell_type": "code",
   "execution_count": null,
   "id": "6ce8359a",
   "metadata": {},
   "outputs": [],
   "source": [
    "import random\n",
    "lower = 0 # Untere Grenze\n",
    "upper = 100 # Obere Grenze\n",
    "max_guesses = 10 # Maximale Anzahl an Versuchen\n",
    "to_guess = random.randint(lower, upper) # Zufällige Zahl zum Erraten\n",
    "current_guess = -1 # Aktueller Tipp\n",
    "num_guesses = 0 # Anzahl der Versuche\n",
    "while current_guess != to_guess:\n",
    "    num_guesses += 1 # Erhöhen der Versuchsanzahl\n",
    "    if num_guesses > max_guesses:\n",
    "        print(\"Maximale Anzahl an Versuchen überschritten\")\n",
    "        break\n",
    "    try:\n",
    "        current_guess = int(input(\"Ihr Tipp (zwischen {} und {}): \".format(lower, upper))) # Benutzereingabe\n",
    "        if current_guess < 0:\n",
    "            print(\"Tschüss.\")\n",
    "            break\n",
    "        if current_guess > to_guess:\n",
    "            print(\"Sie haben zu hoch geraten.\")\n",
    "            upper = current_guess # Obere Grenze anpassen\n",
    "        elif current_guess < to_guess:\n",
    "            print(\"Sie haben zu niedrig geraten.\")\n",
    "            lower = current_guess # Untere Grenze anpassen\n",
    "    except:\n",
    "        print(\"Ungültige Eingabe.\")    \n",
    "else:\n",
    "    print(\"Sie haben es geschafft!\")        "
   ]
  },
  {
   "cell_type": "markdown",
   "id": "984627e7",
   "metadata": {},
   "source": [
    "## Alternative Lösung"
   ]
  },
  {
   "cell_type": "code",
   "execution_count": null,
   "id": "79d19cb4",
   "metadata": {},
   "outputs": [],
   "source": [
    "import random\n",
    "lower = 0 # Untere Grenze\n",
    "upper = 100 # Obere Grenze\n",
    "max_guesses = 10 # Maximale Anzahl an Versuchen\n",
    "to_guess = random.randint(lower, upper) # Zufällige Zahl zum Erraten\n",
    "current_guess = -1 # Aktueller Tipp\n",
    "num_guesses = 0 # Anzahl der Versuche\n",
    "while current_guess != to_guess:\n",
    "    num_guesses += 1 # Erhöhen der Versuchsanzahl\n",
    "    if num_guesses > max_guesses:\n",
    "        print(\"Maximale Anzahl an Versuchen überschritten\")\n",
    "        break\n",
    "    try:\n",
    "        current_guess = int(input(\"Ihr Tipp (zwischen {} und {}): \".format(lower, upper))) # Benutzereingabe\n",
    "    except:\n",
    "        print(\"Sie Dummkopf!\") # Fehler bei ungültiger Eingabe\n",
    "        continue\n",
    "    if current_guess < 0:\n",
    "        print(\"Tschüss.\")\n",
    "        break\n",
    "    if current_guess > to_guess:\n",
    "        print(\"Sie haben zu hoch geraten.\")\n",
    "        upper = current_guess # Obere Grenze anpassen\n",
    "    elif current_guess < to_guess:\n",
    "        print(\"Sie haben zu niedrig geraten.\")\n",
    "        lower = current_guess # Untere Grenze anpassen\n",
    "else:\n",
    "    print(\"Sie haben es geschafft!\")  "
   ]
  }
 ],
 "metadata": {
  "kernelspec": {
   "display_name": "Python 3 (ipykernel)",
   "language": "python",
   "name": "python3"
  },
  "language_info": {
   "codemirror_mode": {
    "name": "ipython",
    "version": 3
   },
   "file_extension": ".py",
   "mimetype": "text/x-python",
   "name": "python",
   "nbconvert_exporter": "python",
   "pygments_lexer": "ipython3",
   "version": "3.13.5"
  }
 },
 "nbformat": 4,
 "nbformat_minor": 5
}
