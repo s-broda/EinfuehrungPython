{
 "cells": [
  {
   "cell_type": "markdown",
   "id": "bec092ba",
   "metadata": {},
   "source": [
    "# Fläche eines Kreises"
   ]
  },
  {
   "cell_type": "code",
   "execution_count": null,
   "id": "7fb4115a",
   "metadata": {},
   "outputs": [],
   "source": [
    "from math import pi\n",
    "def area(r):\n",
    "    \"\"\"Gibt die Fläche eines Kreises zurück\"\"\"\n",
    "    return pi * r**2"
   ]
  },
  {
   "cell_type": "code",
   "execution_count": null,
   "id": "cc969e3e",
   "metadata": {},
   "outputs": [],
   "source": [
    "area(3)"
   ]
  }
 ],
 "metadata": {
  "kernelspec": {
   "display_name": "Python [conda env:base] *",
   "language": "python",
   "name": "conda-base-py"
  },
  "language_info": {
   "codemirror_mode": {
    "name": "ipython",
    "version": 3
   },
   "file_extension": ".py",
   "mimetype": "text/x-python",
   "name": "python",
   "nbconvert_exporter": "python",
   "pygments_lexer": "ipython3",
   "version": "3.13.5"
  }
 },
 "nbformat": 4,
 "nbformat_minor": 5
}
