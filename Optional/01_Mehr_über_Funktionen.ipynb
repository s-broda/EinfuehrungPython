{
 "cells": [
  {
   "cell_type": "markdown",
   "metadata": {
    "slideshow": {
     "slide_type": "slide"
    }
   },
   "source": [
    "<p style=\"text-align: center; font-size: 300%\"> Einführung in die Programmierung mit Python </p>\n",
    "<img src=\"../Notebooks/img/logo.svg\" alt=\"LOGO\" style=\"display:block; margin-left: auto; margin-right: auto; width: 30%;\">"
   ]
  },
  {
   "cell_type": "markdown",
   "metadata": {
    "slideshow": {
     "slide_type": "slide"
    }
   },
   "source": [
    "\n",
    "# Mehr zu Funktionen\n",
    "## Docstrings"
   ]
  },
  {
   "cell_type": "markdown",
   "metadata": {},
   "source": [
    "Python ermöglicht Inline-Dokumentation über _Docstrings_. Dies ist einfach eine Zeichenkette, die direkt nach der Funktionsdefinition erscheint und dokumentiert, was die Funktion tut:"
   ]
  },
  {
   "cell_type": "code",
   "execution_count": null,
   "metadata": {},
   "outputs": [],
   "source": [
    "def mypower(x, y):\n",
    "    \"\"\"Berechnet x^y.\"\"\"\n",
    "    return x**y "
   ]
  },
  {
   "cell_type": "markdown",
   "metadata": {},
   "source": [
    "* Es ist üblich, eine dreifach zitierte Zeichenkette zu verwenden; diese können Zeilenumbrüche enthalten.\n",
    "* Der Docstring wird von der Hilfefunktion angezeigt."
   ]
  },
  {
   "cell_type": "code",
   "execution_count": null,
   "metadata": {},
   "outputs": [],
   "source": [
    "help(mypower)"
   ]
  },
  {
   "cell_type": "markdown",
   "metadata": {},
   "source": [
    "Dies erklärt den Unterschied zwischen einem Kommentar und einem Docstring: Ersteres ist für den Entwickler, letzteres für den Benutzer."
   ]
  },
  {
   "cell_type": "markdown",
   "metadata": {
    "slideshow": {
     "slide_type": "slide"
    }
   },
   "source": [
    "### Übung, Fortsetzung\n",
    "Fügen Sie der `area`-Funktion von letzter Woche einen Docstring hinzu:"
   ]
  },
  {
   "cell_type": "code",
   "execution_count": null,
   "metadata": {},
   "outputs": [],
   "source": [
    "def area(a, b=None):\n",
    "    if b:\n",
    "        return a * b\n",
    "    else:\n",
    "        return a * a"
   ]
  },
  {
   "cell_type": "markdown",
   "metadata": {
    "slideshow": {
     "slide_type": "slide"
    }
   },
   "source": [
    "### Variablenbereich\n",
    "* In Funktionen definierte Variablen sind lokal (nicht sichtbar im aufrufenden Bereich):"
   ]
  },
  {
   "cell_type": "code",
   "execution_count": null,
   "metadata": {},
   "outputs": [],
   "source": [
    "def f():\n",
    "    z = 1\n",
    "f()"
   ]
  },
  {
   "cell_type": "code",
   "execution_count": null,
   "metadata": {
    "scrolled": true
   },
   "outputs": [],
   "source": [
    "print(z)"
   ]
  },
  {
   "cell_type": "markdown",
   "metadata": {
    "slideshow": {
     "slide_type": "slide"
    }
   },
   "source": [
    "* Dasselbe gilt für die Eingabeargumente:"
   ]
  },
  {
   "cell_type": "code",
   "execution_count": null,
   "metadata": {},
   "outputs": [],
   "source": [
    "def f(num):\n",
    "    return num**2"
   ]
  },
  {
   "cell_type": "code",
   "execution_count": null,
   "metadata": {},
   "outputs": [],
   "source": [
    "num"
   ]
  },
  {
   "cell_type": "markdown",
   "metadata": {
    "slideshow": {
     "slide_type": "slide"
    }
   },
   "source": [
    "Außerhalb von Funktionen definierte Variablen sind `global`: Sie sind überall sichtbar:"
   ]
  },
  {
   "cell_type": "code",
   "execution_count": null,
   "metadata": {
    "slideshow": {
     "slide_type": "-"
    }
   },
   "outputs": [],
   "source": [
    "a = 3\n",
    "def f():\n",
    "    print(a)"
   ]
  },
  {
   "cell_type": "code",
   "execution_count": null,
   "metadata": {},
   "outputs": [],
   "source": [
    "f()"
   ]
  },
  {
   "cell_type": "markdown",
   "metadata": {},
   "source": [
    "Das heißt, es sei denn, sie werden von einer lokalen Variable \"überschattet\":"
   ]
  },
  {
   "cell_type": "code",
   "execution_count": null,
   "metadata": {},
   "outputs": [],
   "source": [
    "a = 3\n",
    "def f():\n",
    "    a = 2\n",
    "    print(a)"
   ]
  },
  {
   "cell_type": "code",
   "execution_count": null,
   "metadata": {},
   "outputs": [],
   "source": [
    "f()\n",
    "print(a)"
   ]
  },
  {
   "cell_type": "markdown",
   "metadata": {
    "slideshow": {
     "slide_type": "slide"
    }
   },
   "source": [
    "### Die `global`-Anweisung\n",
    "Wenn wir tatsächlich auf die globale Variable zugreifen wollen, müssen wir dies explizit angeben:"
   ]
  },
  {
   "cell_type": "code",
   "execution_count": null,
   "metadata": {},
   "outputs": [],
   "source": [
    "a = 3\n",
    "def f():\n",
    "    global a\n",
    "    a = 2\n",
    "    print(a) "
   ]
  },
  {
   "cell_type": "code",
   "execution_count": null,
   "metadata": {},
   "outputs": [],
   "source": [
    "f()\n",
    "print(a)"
   ]
  },
  {
   "cell_type": "markdown",
   "metadata": {
    "slideshow": {
     "slide_type": "slide"
    }
   },
   "source": [
    "### Quiz\n",
    "Geben Sie für jedes der folgenden Beispiele an, was ausgegeben wird."
   ]
  },
  {
   "cell_type": "markdown",
   "metadata": {
    "slideshow": {
     "slide_type": "slide"
    }
   },
   "source": [
    "1.\n",
    "```Python\n",
    "def f():    \n",
    "    name = \"Alexander\"\n",
    "name = \"Simon\"\n",
    "f()\n",
    "print(name)\n",
    "```"
   ]
  },
  {
   "cell_type": "markdown",
   "metadata": {
    "slideshow": {
     "slide_type": "slide"
    }
   },
   "source": [
    "2.\n",
    "```Python\n",
    "def f():\n",
    "    global name\n",
    "    name = \"Alexander\"    \n",
    "name = \"Simon\"\n",
    "f()\n",
    "print(name)\n",
    "```"
   ]
  },
  {
   "cell_type": "markdown",
   "metadata": {
    "slideshow": {
     "slide_type": "slide"
    }
   },
   "source": [
    "3.\n",
    "```Python\n",
    "def f():\n",
    "    global name\n",
    "    name = \"Alexander\"    \n",
    "name = \"Simon\"\n",
    "print(name)\n",
    "```"
   ]
  },
  {
   "cell_type": "markdown",
   "metadata": {
    "slideshow": {
     "slide_type": "slide"
    }
   },
   "source": [
    "4.\n",
    "```Python\n",
    "def f(x):    \n",
    "    x = x + 2    \n",
    "x = 7\n",
    "f(x)\n",
    "print(x)\n",
    "```"
   ]
  },
  {
   "cell_type": "markdown",
   "metadata": {
    "slideshow": {
     "slide_type": "slide"
    }
   },
   "source": [
    "5.\n",
    "```Python\n",
    "def f(x):    \n",
    "    x[0] = x[0] + 2\n",
    "    return x\n",
    "y = [7]\n",
    "f(y)\n",
    "print(y[0])\n",
    "```"
   ]
  },
  {
   "cell_type": "markdown",
   "metadata": {
    "slideshow": {
     "slide_type": "slide"
    }
   },
   "source": [
    "### Mutierende Funktionen\n",
    "* Das letzte Beispiel war etwas überraschend.\n",
    "* Es stellt sich heraus, dass wenn Sie ein mutierbares Argument (wie eine `Liste`) an eine Funktion übergeben, Änderungen an dieser Variable für den Aufrufer (d.h. außerhalb der Funktion) sichtbar sind:"
   ]
  },
  {
   "cell_type": "code",
   "execution_count": null,
   "metadata": {},
   "outputs": [],
   "source": [
    "def f(y):\n",
    "    y[0] = 2"
   ]
  },
  {
   "cell_type": "code",
   "execution_count": null,
   "metadata": {},
   "outputs": [],
   "source": [
    "x = [1]\n",
    "f(x)\n",
    "print(x) "
   ]
  },
  {
   "cell_type": "markdown",
   "metadata": {
    "slideshow": {
     "slide_type": "slide"
    }
   },
   "source": [
    "### Splatting und Slurping\n",
    "\n",
    "* Splatting: Übergabe der Elemente einer Sequenz als positionale Argumente an eine Funktion, eines nach dem anderen."
   ]
  },
  {
   "cell_type": "code",
   "execution_count": null,
   "metadata": {
    "slideshow": {
     "slide_type": "-"
    }
   },
   "outputs": [],
   "source": [
    "def mypower(x, y): \n",
    "    return x**y \n",
    "args = [2, 3]  # eine Liste oder ein Tupel\n",
    "mypower(*args)  # Entpackt (splat) args in mypower als positionale Argumente."
   ]
  },
  {
   "cell_type": "markdown",
   "metadata": {
    "slideshow": {
     "slide_type": "slide"
    }
   },
   "source": [
    "* Slurping ermöglicht die Erstellung von *Vararg*-Funktionen: Funktionen, die mit einer beliebigen Anzahl von positionalen und/oder Schlüsselwortargumenten aufgerufen werden können."
   ]
  },
  {
   "cell_type": "code",
   "execution_count": null,
   "metadata": {},
   "outputs": [],
   "source": [
    "def myfunc(*myargs):\n",
    "    for i in range(len(myargs)):\n",
    "        print(\"Argument Nummer \" + str(i) + \": \" + str(myargs[i]))"
   ]
  },
  {
   "cell_type": "markdown",
   "metadata": {
    "slideshow": {
     "slide_type": "slide"
    }
   },
   "source": [
    "## Module\n",
    "* Viel Funktionalität ist in *Modulen* organisiert.\n",
    "* Einige davon sind Teil der *Standardbibliothek* von Python (z.B. `math`). Andere sind Teil von *Paketen*, von denen viele mit Anaconda vorinstalliert sind (z.B. `numpy`).\n",
    "* Module müssen importiert werden, um sie verfügbar zu machen:"
   ]
  },
  {
   "cell_type": "code",
   "execution_count": null,
   "metadata": {},
   "outputs": [],
   "source": [
    "import math\n",
    "math.factorial(7)"
   ]
  },
  {
   "cell_type": "markdown",
   "metadata": {},
   "source": [
    "* Sie können *Tab-Vervollständigung* verwenden, um herauszufinden, welche Funktionen von `math` definiert sind: Geben Sie nach dem Import `math.` ein und drücken Sie die `Tab`-Taste. Alternativ verwenden Sie dir(math):"
   ]
  },
  {
   "cell_type": "code",
   "execution_count": null,
   "metadata": {
    "scrolled": true
   },
   "outputs": [],
   "source": [
    "print(', '.join(filter(lambda m: not m.startswith(\"_\"), dir(math))))  # nur damit die Ausgabe auf die Folie passt"
   ]
  },
  {
   "cell_type": "markdown",
   "metadata": {
    "slideshow": {
     "slide_type": "slide"
    }
   },
   "source": [
    "* Beachten Sie, dass das Importieren des Moduls die Funktionen nicht in den *globalen Namensraum* bringt: Sie müssen als `modul.funktion()` aufgerufen werden.\n",
    "* Es ist möglich, eine Funktion in den globalen Namensraum zu bringen; dafür verwenden Sie:"
   ]
  },
  {
   "cell_type": "code",
   "execution_count": null,
   "metadata": {},
   "outputs": [],
   "source": [
    "from math import factorial\n",
    "factorial(7)"
   ]
  },
  {
   "cell_type": "markdown",
   "metadata": {
    "slideshow": {
     "slide_type": "-"
    }
   },
   "source": [
    "* Es ist sogar möglich, alle Funktionen eines Moduls in den globalen Namensraum zu importieren mit `from math import *`, aber dies wird nicht empfohlen; es verschmutzt den Namensraum, was zu Namenskonflikten führen kann.\n",
    "* *Pakete* können mehrere Module enthalten. Sie werden auf die gleiche Weise importiert:"
   ]
  },
  {
   "cell_type": "code",
   "execution_count": null,
   "metadata": {},
   "outputs": [],
   "source": [
    "import numpy\n",
    "numpy.random.rand()"
   ]
  },
  {
   "cell_type": "markdown",
   "metadata": {
    "slideshow": {
     "slide_type": "slide"
    }
   },
   "source": [
    "* Optional können Sie einen Kurznamen für das importierte Paket/Modul angeben:"
   ]
  },
  {
   "cell_type": "code",
   "execution_count": null,
   "metadata": {},
   "outputs": [],
   "source": [
    "import numpy as np\n",
    "np.sqrt(2.0)  # beachten Sie, dass dies nicht dieselbe Funktion wie math.sqrt ist"
   ]
  },
  {
   "cell_type": "markdown",
   "metadata": {},
   "source": [
    "* Konventionen haben sich für die Kurznamen einiger Pakete entwickelt (z.B. `np` für `numpy`). Das Einhalten dieser Konventionen verbessert die Lesbarkeit des Codes.\n",
    "* Aus dem gleichen Grund ist es gute Praxis, Ihre `import`-Anweisungen am Anfang Ihres Dokuments zu platzieren (was ich hier nicht getan habe)."
   ]
  },
  {
   "cell_type": "markdown",
   "metadata": {
    "slideshow": {
     "slide_type": "slide"
    }
   },
   "source": [
    "## Übung\n",
    "Schreiben Sie eine Funktion, die den Radius eines Kreises als Eingabe nimmt und die Fläche des Kreises zurückgibt, unter Verwendung der Konstante `pi` aus dem `math`-Modul. Hinweis: Die Import-Anweisung sollte am Anfang Ihres Codes stehen, nicht innerhalb der Funktion."
   ]
  },
  {
   "cell_type": "code",
   "execution_count": null,
   "metadata": {},
   "outputs": [],
   "source": []
  },
  {
   "cell_type": "markdown",
   "metadata": {
    "slideshow": {
     "slide_type": "slide"
    }
   },
   "source": [
    "## Zusammenfassung / weiterführende Literatur (optional)\n",
    "### Funktionen\n",
    " * https://www.w3schools.com/python/python_functions.asp\n",
    " * https://python-course.eu/python-tutorial/functions.php\n",
    "\n",
    "### Module\n",
    " * https://www.w3schools.com/python/python_modules.asp\n",
    " * https://python-course.eu/python-tutorial/modules-and-modular-programming.php"
   ]
  },
  {
   "cell_type": "markdown",
   "metadata": {
    "slideshow": {
     "slide_type": "slide"
    }
   },
   "source": [
    "## Hausaufgabe\n",
    "* Übungen 6, 7, 8 von https://www.w3resource.com/python-exercises/modules/index.php"
   ]
  }
 ],
 "metadata": {
  "celltoolbar": "Slideshow",
  "kernelspec": {
   "display_name": "Python 3 (ipykernel)",
   "language": "python",
   "name": "python3"
  },
  "language_info": {
   "codemirror_mode": {
    "name": "ipython",
    "version": 3
   },
   "file_extension": ".py",
   "mimetype": "text/x-python",
   "name": "python",
   "nbconvert_exporter": "python",
   "pygments_lexer": "ipython3",
   "version": "3.13.5"
  },
  "livereveal": {
   "start_slideshow_at": "selected"
  }
 },
 "nbformat": 4,
 "nbformat_minor": 4
}
