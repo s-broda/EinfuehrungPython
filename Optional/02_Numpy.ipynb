{
 "cells": [
  {
   "cell_type": "markdown",
   "metadata": {
    "slideshow": {
     "slide_type": "slide"
    }
   },
   "source": [
    "<p style=\"text-align: center; font-size: 300%\"> Einführung in die Programmierung mit Python </p>\n",
    "<img src=\"../Notebooks/img/logo.svg\" alt=\"LOGO\" style=\"display:block; margin-left: auto; margin-right: auto; width: 30%;\">"
   ]
  },
  {
   "cell_type": "markdown",
   "metadata": {
    "slideshow": {
     "slide_type": "slide"
    }
   },
   "source": [
    "# Einige wichtige Pakete\n",
    "## Numpy\n",
    "* Numpy ist das grundlegendste Paket für numerische Berechnungen in Python ([Benutzerhandbuch](https://docs.scipy.org/doc/numpy/user/index.html)).\n",
    "* Es stellt grundsätzlich einen Datentyp `ndarray` bereit und definiert mathematische Funktionen dafür.\n",
    "* Ein Array ist ähnlich wie eine `list`, mit dem Unterschied, dass\n",
    "  * es mehr als eine Dimension haben kann;\n",
    "  * seine Elemente homogen sind (sie haben alle denselben Typ).\n",
    "* NumPy bietet eine große Anzahl von Funktionen (*ufuncs*), die elementweise auf Arrays operieren. Dies ermöglicht *vektorisierten* Code, der Schleifen vermeidet (die in Python langsam sind).\n",
    "* Numpy bildet die Grundlage von Pandas (später). Direkt verwenden werden wir es eher nicht, daher hier nur ein Überblick."
   ]
  },
  {
   "cell_type": "markdown",
   "metadata": {
    "slideshow": {
     "slide_type": "slide"
    }
   },
   "source": [
    "#### Erstellen von Arrays\n",
    "* Arrays können mit der Funktion `array` erstellt werden, die Sequenzen (z. B. Listen) annimmt und in Arrays umwandelt. Der Datentyp wird automatisch abgeleitet oder kann angegeben werden."
   ]
  },
  {
   "cell_type": "code",
   "execution_count": null,
   "metadata": {},
   "outputs": [],
   "source": [
    "import numpy as np\n",
    "a = np.array([1, 2, 3, 4])\n",
    "print(a)"
   ]
  },
  {
   "cell_type": "code",
   "execution_count": null,
   "metadata": {},
   "outputs": [],
   "source": [
    "a = np.array([1, 2, 3, 4], dtype='float64')  # oder np.array([1., 2., 3., 4.]) # Erstellt ein Array mit Gleitkommazahlen\n",
    "print(a)"
   ]
  },
  {
   "cell_type": "markdown",
   "metadata": {},
   "source": [
    "* NumPy verwendet C++-Datentypen, die sich von denen in Python unterscheiden (obwohl `float64` äquivalent zu Pythons `float` ist)."
   ]
  },
  {
   "cell_type": "markdown",
   "metadata": {
    "slideshow": {
     "slide_type": "slide"
    }
   },
   "source": [
    "* Verschachtelte Listen führen zu mehrdimensionalen Arrays. Wir werden nichts über zweidimensionale hinaus benötigen (d. h. eine Matrix oder Tabelle)."
   ]
  },
  {
   "cell_type": "code",
   "execution_count": null,
   "metadata": {},
   "outputs": [],
   "source": [
    "a = np.array([[1., 2.], [3., 4.]]); a"
   ]
  },
  {
   "cell_type": "code",
   "execution_count": null,
   "metadata": {},
   "outputs": [],
   "source": [
    "a.shape # Anzahl der Zeilen und Spalten"
   ]
  },
  {
   "cell_type": "markdown",
   "metadata": {
    "slideshow": {
     "slide_type": "slide"
    }
   },
   "source": [
    "* Andere Funktionen zum Erstellen von Arrays sind:"
   ]
  },
  {
   "cell_type": "code",
   "execution_count": null,
   "metadata": {},
   "outputs": [],
   "source": [
    "np.ones([2, 3])  # es gibt auch np.zeros und np.empty (was ein nicht initialisiertes Array ergibt)."
   ]
  },
  {
   "cell_type": "code",
   "execution_count": null,
   "metadata": {},
   "outputs": [],
   "source": [
    "np.arange(0, 10, 2)  # wie range, aber erstellt ein Array anstelle einer Liste."
   ]
  },
  {
   "cell_type": "markdown",
   "metadata": {
    "slideshow": {
     "slide_type": "slide"
    }
   },
   "source": [
    "#### Indizierung\n",
    "* Indizierungs- und Slicing-Operationen ähneln denen von Listen:"
   ]
  },
  {
   "cell_type": "code",
   "execution_count": null,
   "metadata": {},
   "outputs": [],
   "source": [
    "a = np.array([[1., 2.], [3., 4.]])\n",
    "print(a)\n",
    "a[0, 0] # [Zeile, Spalte]"
   ]
  },
  {
   "cell_type": "code",
   "execution_count": null,
   "metadata": {},
   "outputs": [],
   "source": [
    "b = a[:, 0]; b # gesamte erste Spalte. Beachten Sie, dass dies ein eindimensionales Array (Vektor) ergibt, keine Matrix mit einer Spalte."
   ]
  },
  {
   "cell_type": "markdown",
   "metadata": {
    "slideshow": {
     "slide_type": "slide"
    }
   },
   "source": [
    "* Neben der Indizierung nach Zeile und Spalte unterstützen Arrays auch *boolesche* Indizierung:"
   ]
  },
  {
   "cell_type": "code",
   "execution_count": null,
   "metadata": {},
   "outputs": [],
   "source": [
    "a = np.arange(10); a"
   ]
  },
  {
   "cell_type": "code",
   "execution_count": null,
   "metadata": {},
   "outputs": [],
   "source": [
    "ind = a < 5; ind"
   ]
  },
  {
   "cell_type": "code",
   "execution_count": null,
   "metadata": {},
   "outputs": [],
   "source": [
    "a[ind]"
   ]
  },
  {
   "cell_type": "markdown",
   "metadata": {},
   "source": [
    "Eine kürzere Schreibweise dafür ist"
   ]
  },
  {
   "cell_type": "code",
   "execution_count": null,
   "metadata": {},
   "outputs": [],
   "source": [
    "a[a<5]"
   ]
  },
  {
   "cell_type": "markdown",
   "metadata": {},
   "source": [
    "Dies ist nützlich, um Elemente nach einer bestimmten Bedingung auszuwählen."
   ]
  },
  {
   "cell_type": "markdown",
   "metadata": {
    "slideshow": {
     "slide_type": "slide"
    }
   },
   "source": [
    "#### Arithmetik und `ufunc`s\n",
    "* NumPy `ufunc`s sind Funktionen, die elementweise operieren:"
   ]
  },
  {
   "cell_type": "code",
   "execution_count": null,
   "metadata": {},
   "outputs": [],
   "source": [
    "a = np.arange(1, 5); np.sqrt(a)"
   ]
  },
  {
   "cell_type": "markdown",
   "metadata": {},
   "source": [
    "* Andere nützliche ufuncs sind `exp`, `log`, `abs` und `sqrt`.\n",
    "* Grundlegende Arithmetik auf Arrays funktioniert elementweise:"
   ]
  },
  {
   "cell_type": "code",
   "execution_count": null,
   "metadata": {},
   "outputs": [],
   "source": [
    "a = np.arange(1, 5); b = np.arange(5, 9); a, b, a+b, a-b, a/b.astype(float)"
   ]
  },
  {
   "cell_type": "markdown",
   "metadata": {
    "slideshow": {
     "slide_type": "slide"
    }
   },
   "source": [
    "#### Broadcasting"
   ]
  },
  {
   "cell_type": "markdown",
   "metadata": {},
   "source": [
    "* Operationen zwischen Skalarwerten und Arrays werden ebenfalls unterstützt:"
   ]
  },
  {
   "cell_type": "code",
   "execution_count": null,
   "metadata": {},
   "outputs": [],
   "source": [
    "np.array([1, 2, 3, 4]) + 2"
   ]
  },
  {
   "cell_type": "markdown",
   "metadata": {},
   "source": [
    "* Dies ist ein Sonderfall eines allgemeineren Konzepts, das als *Broadcasting* bekannt ist und Operationen zwischen Arrays unterschiedlicher Formen ermöglicht.\n",
    "* NumPy vergleicht die Formen von zwei Arrays dimensionsweise. Es beginnt mit den hinteren Dimensionen und arbeitet sich nach vorne. Zwei Dimensionen sind kompatibel, wenn\n",
    "  * sie gleich sind oder\n",
    "  * eine davon 1 ist (oder nicht vorhanden).\n",
    "* Im letzteren Fall wird die Singleton-Dimension „gestreckt“, um mit dem größeren Array übereinzustimmen."
   ]
  },
  {
   "cell_type": "markdown",
   "metadata": {
    "slideshow": {
     "slide_type": "slide"
    }
   },
   "source": [
    "* Beispiel:"
   ]
  },
  {
   "cell_type": "code",
   "execution_count": null,
   "metadata": {
    "slideshow": {
     "slide_type": "-"
    }
   },
   "outputs": [],
   "source": [
    "x = np.arange(6).reshape((2, 3)); x  # x hat die Form (2,3)."
   ]
  },
  {
   "cell_type": "code",
   "execution_count": null,
   "metadata": {},
   "outputs": [],
   "source": [
    "m = np.mean(x, axis=0); m  # m hat die Form (3,)."
   ]
  },
  {
   "cell_type": "code",
   "execution_count": null,
   "metadata": {
    "slideshow": {
     "slide_type": "-"
    }
   },
   "outputs": [],
   "source": [
    "x-m  # die hintere Dimension stimmt überein, und m wird gestreckt, um mit den 2 Zeilen von x übereinzustimmen."
   ]
  },
  {
   "cell_type": "markdown",
   "metadata": {
    "slideshow": {
     "slide_type": "slide"
    }
   },
   "source": [
    "#### Array-Reduktionen\n",
    "* *Array-Reduktionen* sind Operationen auf Arrays, die Skalare oder Arrays mit niedrigerer Dimension zurückgeben, wie die oben verwendete Funktion `mean`.\n",
    "* Sie können verwendet werden, um Informationen über ein Array zusammenzufassen, z. B. die Standardabweichung berechnen:"
   ]
  },
  {
   "cell_type": "code",
   "execution_count": null,
   "metadata": {},
   "outputs": [],
   "source": [
    "a = np.random.randn(300, 3)  # erstellt eine 300x3-Matrix mit standardnormalverteilten Werten.\n",
    "a.std(axis=0)  # oder np.std(a, axis=0)"
   ]
  },
  {
   "cell_type": "markdown",
   "metadata": {},
   "source": [
    "* Standardmäßig operieren Reduktionen auf dem *abgeflachten* Array (d. h. auf allen Elementen). Für zeilen- oder spaltenweise Operationen muss das Argument `axis` angegeben werden.\n",
    "* Andere nützliche Reduktionen sind `sum`, `median`, `min`, `max`, `argmin`, `argmax`, `any` und `all` (siehe Hilfe)."
   ]
  },
  {
   "cell_type": "markdown",
   "metadata": {
    "slideshow": {
     "slide_type": "slide"
    }
   },
   "source": [
    "# Lektüre (empfohlen)\n",
    "* https://python-course.eu/numerical-programming/ 1-9, 11"
   ]
  },
  {
   "cell_type": "markdown",
   "metadata": {
    "slideshow": {
     "slide_type": "slide"
    }
   },
   "source": [
    "# Hausaufgaben\n",
    "Übungen 1-16 von https://github.com/rougier/numpy-100/blob/master/100_Numpy_exercises.md. Überspringen Sie 4 und 11."
   ]
  }
 ],
 "metadata": {
  "celltoolbar": "Slideshow",
  "kernelspec": {
   "display_name": "Python 3 (ipykernel)",
   "language": "python",
   "name": "python3"
  },
  "language_info": {
   "codemirror_mode": {
    "name": "ipython",
    "version": 3
   },
   "file_extension": ".py",
   "mimetype": "text/x-python",
   "name": "python",
   "nbconvert_exporter": "python",
   "pygments_lexer": "ipython3",
   "version": "3.13.5"
  },
  "livereveal": {
   "start_slideshow_at": "selected"
  }
 },
 "nbformat": 4,
 "nbformat_minor": 4
}
