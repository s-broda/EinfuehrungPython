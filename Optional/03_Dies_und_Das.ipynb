{
 "cells": [
  {
   "cell_type": "markdown",
   "metadata": {
    "slideshow": {
     "slide_type": "slide"
    }
   },
   "source": [
    "<p style=\"text-align: center; font-size: 300%\"> Einführung in die Programmierung mit Python </p>\n",
    "<img src=\"../Notebooks/img/logo.svg\" alt=\"LOGO\" style=\"display:block; margin-left: auto; margin-right: auto; width: 30%;\">"
   ]
  },
  {
   "cell_type": "markdown",
   "metadata": {
    "slideshow": {
     "slide_type": "slide"
    }
   },
   "source": [
    "# Einige Kleinigkeiten"
   ]
  },
  {
   "cell_type": "markdown",
   "metadata": {},
   "source": [
    "## Mehr zu Zeichenketten"
   ]
  },
  {
   "cell_type": "markdown",
   "metadata": {},
   "source": [
    "### String-Interpolation\n",
    "* String-Interpolation wird verwendet, um Werte (oft Zahlen) in Zeichenketten einzufügen, z. B. für die Ausgabe.\n",
    "* Grundsätzlich kann dasselbe Ergebnis durch String-Konkatenation erreicht werden. String-Interpolation macht dies jedoch einfacher.\n",
    "* Es gibt verschiedene Methoden in Python, um dies zu tun; die häufigste ist `str.format`."
   ]
  },
  {
   "cell_type": "markdown",
   "metadata": {
    "slideshow": {
     "slide_type": "slide"
    }
   },
   "source": [
    "Beispiele:"
   ]
  },
  {
   "cell_type": "code",
   "execution_count": null,
   "metadata": {
    "slideshow": {
     "slide_type": "-"
    }
   },
   "outputs": [],
   "source": [
    "mystr = \"{} ist {} Jahre alt.\".format(\"Simon\", 45)\n",
    "print(mystr)"
   ]
  },
  {
   "cell_type": "code",
   "execution_count": null,
   "metadata": {},
   "outputs": [],
   "source": [
    "mystr = \"{0} ist {1} Jahre alt.\".format(\"Simon\", 45)\n",
    "print(mystr)"
   ]
  },
  {
   "cell_type": "code",
   "execution_count": null,
   "metadata": {},
   "outputs": [],
   "source": [
    "mystr = \"{name} ist {age} Jahre alt.\".format(name=\"Simon\", age=45)\n",
    "print(mystr)"
   ]
  },
  {
   "cell_type": "code",
   "execution_count": null,
   "metadata": {},
   "outputs": [],
   "source": [
    "mystr = \"{name:} ist {age:2.2f} Jahre alt.\".format(name=\"Simon\", age=45)\n",
    "print(mystr)"
   ]
  },
  {
   "cell_type": "markdown",
   "metadata": {
    "slideshow": {
     "slide_type": "slide"
    }
   },
   "source": [
    "### `str.join`\n",
    "* Dies wird verwendet, um eine einzelne Zeichenkette aus mehreren zu erstellen, die z. B. als Liste gegeben sind.\n",
    "* Beispiel:"
   ]
  },
  {
   "cell_type": "code",
   "execution_count": null,
   "metadata": {},
   "outputs": [],
   "source": [
    "city_list = [\"Zürich\", \"Luzern\", \"Bern\"]\n",
    "\" und \".join(city_list)"
   ]
  },
  {
   "cell_type": "markdown",
   "metadata": {},
   "source": [
    "Dies mag zunächst etwas kontraintuitiv erscheinen: Der Separator wird in die Zeichenkette eingefügt, und die Liste in die `join`-Methode."
   ]
  },
  {
   "cell_type": "markdown",
   "metadata": {
    "slideshow": {
     "slide_type": "slide"
    }
   },
   "source": [
    "## Dictionaries"
   ]
  },
  {
   "cell_type": "markdown",
   "metadata": {},
   "source": [
    "* Disctionaries, oder `dict`s, sind ein weiterer eingebauter Datentyp.\n",
    "* Sie bestehen aus Schlüssel-Wert-Paaren und werden mit geschweiften Klammern erstellt:"
   ]
  },
  {
   "cell_type": "code",
   "execution_count": null,
   "metadata": {},
   "outputs": [],
   "source": [
    "population= {\"Deutschland\": 83, \"Schweiz\": 8, \"Niederlande\": 16}\n",
    "print(population)"
   ]
  },
  {
   "cell_type": "markdown",
   "metadata": {},
   "source": [
    "Indizierung:"
   ]
  },
  {
   "cell_type": "code",
   "execution_count": null,
   "metadata": {},
   "outputs": [],
   "source": [
    "population[\"Deutschland\"]"
   ]
  },
  {
   "cell_type": "markdown",
   "metadata": {
    "slideshow": {
     "slide_type": "slide"
    }
   },
   "source": [
    "* In gewisser Weise kann man sie als vereinfachtes Dataframe betrachten.\n",
    "* Die Schlüssel müssen von einem unveränderlichen Typ sein (`string` wie oben, `int`, etc.) und eindeutig.\n",
    "* Die Werte können beliebig sein."
   ]
  },
  {
   "cell_type": "markdown",
   "metadata": {
    "slideshow": {
     "slide_type": "slide"
    }
   },
   "source": [
    "Elemente löschen:"
   ]
  },
  {
   "cell_type": "code",
   "execution_count": null,
   "metadata": {},
   "outputs": [],
   "source": [
    "del[population[\"Deutschland\"]]"
   ]
  },
  {
   "cell_type": "markdown",
   "metadata": {},
   "source": [
    "Methoden:"
   ]
  },
  {
   "cell_type": "code",
   "execution_count": null,
   "metadata": {},
   "outputs": [],
   "source": [
    "print(', '.join(filter(lambda m: callable(getattr(population, m)) and not m.startswith(\"_\"), dir(population))))"
   ]
  },
  {
   "cell_type": "markdown",
   "metadata": {
    "slideshow": {
     "slide_type": "slide"
    }
   },
   "source": [
    "#### Übung"
   ]
  },
  {
   "cell_type": "markdown",
   "metadata": {},
   "source": [
    "Die folgenden Disctionaries sind gegeben:"
   ]
  },
  {
   "cell_type": "code",
   "execution_count": null,
   "metadata": {},
   "outputs": [],
   "source": [
    "en_de = {\"red\" : \"rot\", \"green\" : \"grün\", \"blue\" : \"blau\", \"yellow\":\"gelb\"}\n",
    "de_fr = {\"rot\" : \"rouge\", \"grün\" : \"vert\", \"blau\" : \"bleu\", \"gelb\":\"jaune\"}"
   ]
  },
  {
   "cell_type": "markdown",
   "metadata": {},
   "source": [
    "(Beispiel von https://python-course.eu/python-tutorial/dictionaries.php).\n",
    "\n",
    "Wie kann man \"red\" von Englisch nach Französisch übersetzen?"
   ]
  },
  {
   "cell_type": "code",
   "execution_count": null,
   "metadata": {},
   "outputs": [],
   "source": []
  },
  {
   "cell_type": "markdown",
   "metadata": {
    "slideshow": {
     "slide_type": "slide"
    }
   },
   "source": [
    "## List Comprehensions und Generatorausdrücke\n",
    "### List Comprehensions"
   ]
  },
  {
   "cell_type": "markdown",
   "metadata": {},
   "source": [
    "* Ein \"Comprehension\" in Python ist eine bequeme Methode, um Containertypen wie Listen, Wörterbücher usw. zu erstellen.\n",
    "* Listen sind der häufigste Anwendungsfall.\n",
    "* Sie sehen ein wenig wie eine for-Schleife aus:"
   ]
  },
  {
   "cell_type": "code",
   "execution_count": null,
   "metadata": {},
   "outputs": [],
   "source": [
    "[a**2 for a in range(0, 10)]"
   ]
  },
  {
   "cell_type": "code",
   "execution_count": null,
   "metadata": {},
   "outputs": [],
   "source": [
    "[a**2 for a in range(0, 10) if a%2!=0]"
   ]
  },
  {
   "cell_type": "markdown",
   "metadata": {
    "slideshow": {
     "slide_type": "slide"
    }
   },
   "source": [
    "### Generatorausdrücke\n",
    "* Diese sehen wie List Comprehensions aus, verwenden jedoch runde Klammern.\n",
    "* Der Hauptunterschied ist, dass sie keine Liste \"materialisieren\"; stattdessen erzeugen sie ihre Elemente bei Bedarf. Dies spart Speicher.\n",
    "* Beispiel:"
   ]
  },
  {
   "cell_type": "code",
   "execution_count": null,
   "metadata": {},
   "outputs": [],
   "source": [
    "(a**2 for a in range(0, 10))"
   ]
  },
  {
   "cell_type": "code",
   "execution_count": null,
   "metadata": {},
   "outputs": [],
   "source": [
    "mygen = (a**2 for a in range(0, 10))\n",
    "for elem in mygen:\n",
    "    print(elem) # Gibt jedes Element des Generators aus"
   ]
  },
  {
   "cell_type": "markdown",
   "metadata": {
    "slideshow": {
     "slide_type": "slide"
    }
   },
   "source": [
    "#### Übung\n",
    "* Erstellen Sie eine Liste mit den ungeraden Zahlen zwischen null und 50, unter Verwendung von\n",
    "    - einer for-Schleife\n",
    "    - einer List Comprehension"
   ]
  },
  {
   "cell_type": "markdown",
   "metadata": {
    "slideshow": {
     "slide_type": "slide"
    }
   },
   "source": [
    "## Ausnahme- (oder Fehler-) Behandlung\n",
    "* Immer wenn ein Programm mit Daten umgehen muss, die nicht unter seiner Kontrolle stehen (Benutzereingaben, Lesen aus Dateien usw.), ist es ratsam, sich gegen illegale Eingaben zu schützen.\n",
    "* Betrachten Sie die Lösung der Hausaufgaben von Woche 4 unten.\n",
    "* Was passiert, wenn der Benutzer eine Zeichenkette eingibt?"
   ]
  },
  {
   "cell_type": "code",
   "execution_count": null,
   "metadata": {
    "slideshow": {
     "slide_type": "slide"
    }
   },
   "outputs": [],
   "source": [
    "import random\n",
    "lower = 0 # Untere Grenze\n",
    "upper = 100 # Obere Grenze\n",
    "max_guesses = 10 # Maximale Anzahl an Versuchen\n",
    "to_guess = random.randint(lower, upper) # Zufällige Zahl zum Erraten\n",
    "current_guess = -1 # Aktueller Tipp\n",
    "num_guesses = 0 # Anzahl der Versuche\n",
    "while current_guess != to_guess:\n",
    "    num_guesses += 1\n",
    "    if num_guesses > max_guesses:\n",
    "        print(\"Maximale Anzahl an Versuchen überschritten\")\n",
    "        break\n",
    "    current_guess = int(input(\"Ihr Tipp (zwischen {} und {}): \".format(lower, upper)))\n",
    "    if current_guess < 0:\n",
    "        print(\"Tschüss.\")\n",
    "        break\n",
    "    if current_guess > to_guess:\n",
    "        print(\"Sie haben zu hoch geraten.\")\n",
    "        upper = current_guess\n",
    "    elif current_guess < to_guess:\n",
    "        print(\"Sie haben zu niedrig geraten.\")\n",
    "        lower = current_guess\n",
    "else:\n",
    "    print(\"Sie haben es geschafft!\")        "
   ]
  },
  {
   "cell_type": "markdown",
   "metadata": {
    "slideshow": {
     "slide_type": "slide"
    }
   },
   "source": [
    "* Oft ist es wünschenswert, dass das Programm mit dem Fehler umgeht, anstatt nur einen Fehler auszugeben und das Programm zu beenden.\n",
    "* Dafür ist die Ausnahme-/Fehlerbehandlung gedacht.\n",
    "* Grundlegende Syntax:"
   ]
  },
  {
   "cell_type": "code",
   "execution_count": null,
   "metadata": {
    "slideshow": {
     "slide_type": "-"
    }
   },
   "outputs": [],
   "source": [
    "try:\n",
    "    num_str = input(\"Bitte geben Sie eine Ganzzahl ein: \")\n",
    "    num = int(num_str)\n",
    "except:\n",
    "    print(\"Sie haben {} eingegeben, was nicht in eine Ganzzahl umgewandelt werden kann\".format(num_str))"
   ]
  },
  {
   "cell_type": "markdown",
   "metadata": {
    "slideshow": {
     "slide_type": "slide"
    }
   },
   "source": [
    "## Übung\n",
    "* Verwenden Sie die Ausnahmebehandlung, um sich gegen illegale Eingaben im obigen Zahlensuchspiel zu schützen."
   ]
  },
  {
   "cell_type": "markdown",
   "metadata": {
    "slideshow": {
     "slide_type": "slide"
    }
   },
   "source": [
    "# Empfohlene Lektüre\n"
   ]
  },
  {
   "cell_type": "markdown",
   "metadata": {},
   "source": [
    "* https://www.geeksforgeeks.org/python-list-comprehensions-vs-generator-expressions/\n",
    "* https://www.w3schools.com/python/ref_string_format.asp\n",
    "* https://python-course.eu/python-tutorial/dictionaries.php"
   ]
  },
  {
   "cell_type": "markdown",
   "metadata": {},
   "source": [
    "# Weiterführende Lektüre\n",
    "* https://python-course.eu/python-tutorial/errors-and-exception-handling.php"
   ]
  },
  {
   "cell_type": "markdown",
   "metadata": {
    "slideshow": {
     "slide_type": "slide"
    }
   },
   "source": [
    "# Hausaufgaben\n",
    "* https://holypython.com/intermediate-python-exercises/exercise-1-python-format-method/\n",
    "* https://holypython.com/intermediate-python-exercises/exercise-2-join-method/\n",
    "* https://towardsdatascience.com/beginner-to-advanced-list-comprehension-practice-problems-a89604851313 Übungen 1-3"
   ]
  }
 ],
 "metadata": {
  "celltoolbar": "Slideshow",
  "kernelspec": {
   "display_name": "Python 3 (ipykernel)",
   "language": "python",
   "name": "python3"
  },
  "language_info": {
   "codemirror_mode": {
    "name": "ipython",
    "version": 3
   },
   "file_extension": ".py",
   "mimetype": "text/x-python",
   "name": "python",
   "nbconvert_exporter": "python",
   "pygments_lexer": "ipython3",
   "version": "3.13.5"
  },
  "livereveal": {
   "start_slideshow_at": "selected"
  }
 },
 "nbformat": 4,
 "nbformat_minor": 4
}
