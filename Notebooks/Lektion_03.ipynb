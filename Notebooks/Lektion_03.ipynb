{
 "cells": [
  {
   "cell_type": "markdown",
   "metadata": {
    "slideshow": {
     "slide_type": "slide"
    }
   },
   "source": [
    "<p style=\"text-align: center; font-size: 300%\"> Einführung in die Programmierung mit Python </p>\n",
    "<img src=\"img/logo.svg\" alt=\"LOGO\" style=\"display:block; margin-left: auto; margin-right: auto; width: 30%;\">"
   ]
  },
  {
   "cell_type": "markdown",
   "metadata": {
    "editable": true,
    "slideshow": {
     "slide_type": "slide"
    },
    "tags": []
   },
   "source": [
    "## Syllabus\n",
    "1. Python installieren; Jupyter Notebooks\n",
    "2. Grundlagen: Arithmethik, Variablen und Datentypen\n",
    "3. **Methoden; Listen; Bedingte Anweisungen**\n",
    "4. Schleifen\n",
    "5. Benutzerdefinierte Funktionen\n",
    "6. Datenaufbereitung und Grafische Darstellungen"
   ]
  },
  {
   "cell_type": "markdown",
   "metadata": {
    "slideshow": {
     "slide_type": "slide"
    }
   },
   "source": [
    "# Methoden\n",
    "Neben Funktionen (wie `len` und `print`) gibt es in Python auch *Methoden*. Sie funktionieren fast wie Funktionen, werden aber aufgerufen, indem der Methodenname an den Namen eines Objekts (hier eine Zeichenkette) angehängt wird:"
   ]
  },
  {
   "cell_type": "code",
   "execution_count": null,
   "metadata": {},
   "outputs": [],
   "source": [
    "s1 = \"Simon\""
   ]
  },
  {
   "cell_type": "code",
   "execution_count": null,
   "metadata": {},
   "outputs": [],
   "source": [
    "s1.upper()"
   ]
  },
  {
   "cell_type": "markdown",
   "metadata": {
    "slideshow": {
     "slide_type": "slide"
    }
   },
   "source": [
    "Objekte verschiedener Typen unterstützen unterschiedliche Operationen (Methoden). Hier ist eine Liste für Zeichenketten:"
   ]
  },
  {
   "cell_type": "code",
   "execution_count": null,
   "metadata": {
    "slideshow": {
     "slide_type": "-"
    }
   },
   "outputs": [],
   "source": [
    "print(', '.join(filter(lambda m: callable(getattr(s1, m)) and not m.startswith(\"_\"), dir(s1))))"
   ]
  },
  {
   "cell_type": "markdown",
   "metadata": {},
   "source": [
    "Der Schlüssel im obigen Befehl ist `dir(s1)` (probieren Sie es aus). Der Rest dient nur der schönen Ausgabe.\n",
    "\n",
    "Eine weitere Möglichkeit, herauszufinden, welche Methoden von einem Objekt eines bestimmten Typs unterstützt werden, ist die Verwendung von *Autovervollständigung*:"
   ]
  },
  {
   "cell_type": "code",
   "execution_count": null,
   "metadata": {},
   "outputs": [],
   "source": [
    "# Entkommentieren Sie die nächste Zeile\n",
    "# s1. # Versuchen Sie, die Tab-Taste nach dem Punkt zu drücken"
   ]
  },
  {
   "cell_type": "markdown",
   "metadata": {},
   "source": [
    "Sie können herausfinden, was eine Methode tut, indem Sie die `help`-Funktion verwenden:"
   ]
  },
  {
   "cell_type": "code",
   "execution_count": null,
   "metadata": {},
   "outputs": [],
   "source": [
    "help(s1.upper)"
   ]
  },
  {
   "cell_type": "markdown",
   "metadata": {
    "slideshow": {
     "slide_type": "slide"
    }
   },
   "source": [
    "### Übung\n",
    "Die folgenden Methoden für Zeichenketten werden in den Hausaufgaben benötigt. Versuchen Sie herauszufinden, was sie tun, indem Sie eine Mischung aus `help` und Ausprobieren verwenden:\n",
    "`lower`, `upper`, `capitalize`, `startswith`, `endswith`, `index` und `find`."
   ]
  },
  {
   "cell_type": "code",
   "execution_count": null,
   "metadata": {},
   "outputs": [],
   "source": []
  },
  {
   "cell_type": "markdown",
   "metadata": {
    "slideshow": {
     "slide_type": "slide"
    }
   },
   "source": [
    "### Listen\n",
    "Listen sind indizierbare Sammlungen von beliebigen (meist jedoch homogenen) Dingen:"
   ]
  },
  {
   "cell_type": "code",
   "execution_count": null,
   "metadata": {},
   "outputs": [],
   "source": [
    "list1 = [1, 2., 'hi']; print(list1)"
   ]
  },
  {
   "cell_type": "markdown",
   "metadata": {},
   "source": [
    "Wie bei Zeichenketten gibt die Funktion `len` die Länge einer Liste (oder jeder anderen Sequenz) zurück:"
   ]
  },
  {
   "cell_type": "code",
   "execution_count": null,
   "metadata": {},
   "outputs": [],
   "source": [
    "len(list1)"
   ]
  },
  {
   "cell_type": "markdown",
   "metadata": {},
   "source": [
    "Wie Zeichenketten unterstützen sie die Indizierung, aber im Gegensatz zu Zeichenketten sind sie *veränderbar*, d.h., Elemente der Liste können geändert werden."
   ]
  },
  {
   "cell_type": "code",
   "execution_count": null,
   "metadata": {},
   "outputs": [],
   "source": [
    "list1 = [1, 2., 'hi']\n",
    "list1[2] = 42\n",
    "print(list1)"
   ]
  },
  {
   "cell_type": "markdown",
   "metadata": {
    "slideshow": {
     "slide_type": "slide"
    }
   },
   "source": [
    "Die Funktionen `sum`, `min` und `max` berechnen jeweils die Summe, das Minimum und das Maximum einer Liste, sofern dies in Bezug auf die Elemente der Liste sinnvoll ist:"
   ]
  },
  {
   "cell_type": "code",
   "execution_count": null,
   "metadata": {
    "slideshow": {
     "slide_type": "-"
    }
   },
   "outputs": [],
   "source": [
    "list1 = [1, 2., 42]\n",
    "print(sum(list1))\n",
    "print(min(list1))\n",
    "print(max(list1))"
   ]
  },
  {
   "cell_type": "markdown",
   "metadata": {
    "slideshow": {
     "slide_type": "slide"
    }
   },
   "source": [
    "Wie Zeichenketten unterstützen Listen eine Reihe von Methoden:"
   ]
  },
  {
   "cell_type": "code",
   "execution_count": null,
   "metadata": {},
   "outputs": [],
   "source": [
    "print(', '.join(filter(lambda m: callable(getattr(list1, m)) and not m.startswith(\"_\"), dir(list1))))"
   ]
  },
  {
   "cell_type": "markdown",
   "metadata": {},
   "source": [
    "### Übung\n",
    "Die Methoden `append`, `insert`, `index`, `remove`, `reverse` und `count` werden für die Hausaufgaben benötigt. Finden Sie heraus, was sie tun."
   ]
  },
  {
   "cell_type": "code",
   "execution_count": null,
   "metadata": {},
   "outputs": [],
   "source": []
  },
  {
   "cell_type": "markdown",
   "metadata": {
    "slideshow": {
     "slide_type": "slide"
    }
   },
   "source": [
    "### Tupel\n",
    "* Ein `Tupel` ist ähnlich wie eine Liste, aber *unveränderbar*. Es wird mit runden Klammern erstellt:"
   ]
  },
  {
   "cell_type": "code",
   "execution_count": null,
   "metadata": {},
   "outputs": [],
   "source": [
    "(1, 2., 'hi')"
   ]
  },
  {
   "cell_type": "markdown",
   "metadata": {
    "slideshow": {
     "slide_type": "slide"
    }
   },
   "source": [
    "## Übung\n",
    " 1. Erstellen Sie eine Liste mit den Namen \"Simon\", \"Carl\" und \"Lucy\" als Zeichenketten und speichern Sie sie in einer Variable.\n",
    " 1. Ändern Sie das zweite Element der Liste in \"Karl\".\n",
    " 1. Wiederholen Sie dies, aber verwenden Sie diesmal ein Tupel anstelle einer Liste. Warum schlägt dies fehl?"
   ]
  },
  {
   "cell_type": "code",
   "execution_count": null,
   "metadata": {},
   "outputs": [],
   "source": []
  },
  {
   "cell_type": "markdown",
   "metadata": {
    "slideshow": {
     "slide_type": "slide"
    }
   },
   "source": [
    "# Kontrollfluss"
   ]
  },
  {
   "cell_type": "markdown",
   "metadata": {},
   "source": [
    "## Bedingungen\n",
    "Bedingte Anweisungen werden verwendet, wenn Code nur ausgeführt werden soll, wenn eine bestimmte Bedingung erfüllt ist.\n",
    "Beispiel:"
   ]
  },
  {
   "cell_type": "code",
   "execution_count": null,
   "metadata": {},
   "outputs": [],
   "source": [
    "x = int(input(\"Geben Sie eine positive Zahl ein: \")) \n",
    "if x < 0:\n",
    "    print(\"Sie haben eine negative Zahl eingegeben.\")"
   ]
  },
  {
   "cell_type": "markdown",
   "metadata": {},
   "source": [
    "Hinweise: \n",
    " 1. Codeblöcke werden durch Doppelpunkte eingeleitet und müssen eingerückt werden.\n",
    " 2. Der `if`-Block wird nur ausgeführt, wenn die Bedingung `True` ist."
   ]
  },
  {
   "cell_type": "markdown",
   "metadata": {
    "slideshow": {
     "slide_type": "slide"
    }
   },
   "source": [
    "Was, wenn wir etwas tun wollen, falls die Bedingung `False` ist? `else` hilft weiter."
   ]
  },
  {
   "cell_type": "code",
   "execution_count": null,
   "metadata": {},
   "outputs": [],
   "source": [
    "x = int(input(\"Geben Sie eine positive Zahl ein: \")) \n",
    "if x < 0:\n",
    "    print(\"Sie haben eine negative Zahl eingegeben.\")\n",
    "else:\n",
    "    print(\"Danke.\")\n",
    "    "
   ]
  },
  {
   "cell_type": "markdown",
   "metadata": {},
   "source": [
    "Offenbar wird der `else`-Block ausgeführt, wenn die Bedingung `False` ist."
   ]
  },
  {
   "cell_type": "markdown",
   "metadata": {
    "slideshow": {
     "slide_type": "slide"
    }
   },
   "source": [
    "Was, wenn wir mehrere Bedingungen haben? Zum Beispiel wollen wir eine Zahl zwischen 0 und 9? Lösung: `elif` (lies: else if)."
   ]
  },
  {
   "cell_type": "code",
   "execution_count": null,
   "metadata": {
    "slideshow": {
     "slide_type": "-"
    }
   },
   "outputs": [],
   "source": [
    "x = int(input(\"Geben Sie eine Zahl zwischen 0 und 9 ein: \")) \n",
    "if x < 0:\n",
    "    print(\"Sie haben eine negative Zahl eingegeben.\")\n",
    "elif x > 9:\n",
    "    print(\"Ihre Zahl ist größer als 9.\")\n",
    "else:\n",
    "    print(\"Danke.\")\n",
    "\n",
    "    "
   ]
  },
  {
   "cell_type": "markdown",
   "metadata": {},
   "source": [
    "Hinweise:\n",
    " 1. Der `elif`-Block wird ausgeführt, wenn die `if`-Bedingung falsch ist, aber die `elif`-Bedingung wahr ist.\n",
    " 1. Genau einer der drei Blöcke wird ausgeführt. Der `else`-Block dient als Auffanglösung, wenn keiner der anderen ausgelöst wird.\n",
    " 1. Es kann mehr als einen `elif`-Block geben, aber nur einen `if`- und einen `else`-Block."
   ]
  },
  {
   "cell_type": "markdown",
   "metadata": {
    "slideshow": {
     "slide_type": "slide"
    }
   },
   "source": [
    "## Übung\n",
    "\n",
    "Der Body-Mass-Index (BMI) wird definiert als das Gewicht einer Person (in kg) geteilt durch die quadrierte Körpergröße in Metern. Die folgenden Schwellenwerte existieren (Quelle: [NHS](https://www.nhs.uk/common-health-questions/lifestyle/what-is-the-body-mass-index-bmi/)):\n",
    "\n",
    " * unter 18.5 – Untergewicht\n",
    " * 18.5 bis 25 - gesund\n",
    " * 25 bis 30 - Übergewicht\n",
    " * über 30 - fettleibig.\n",
    "\n",
    "Schreiben Sie ein Programm, das den Benutzer nach seinem Gewicht und seiner Größe fragt, den BMI berechnet und eine Nachricht ausgibt, die dem Benutzer mitteilt: `Sie sind ... .`"
   ]
  },
  {
   "cell_type": "markdown",
   "metadata": {
    "slideshow": {
     "slide_type": "slide"
    }
   },
   "source": [
    "## Weitere eingebaute Datentypen\n",
    "\n",
    "* Weitere eingebaute Datentypen umfassen `set`s (ungeordnete Sammlungen) und `dict`s (Sammlungen von Schlüssel-Wert-Paaren). Mehr dazu später."
   ]
  },
  {
   "cell_type": "markdown",
   "metadata": {
    "slideshow": {
     "slide_type": "slide"
    }
   },
   "source": [
    "# Hausaufgabe\n",
    "* Listen, Methoden: Anfängerübungen 6-7, 9-10, 17, 18 von https://holypython.com/beginner-python-exercises/\n",
    "* Bedingungen: \n",
    "    - Mittelschwere (Intermediate) Übungen 7a, 7b von https://holypython.com/intermediate-python-exercises/\n",
    "    - Übungen 2, 31, 33 und 40 von\n",
    "https://www.w3resource.com/python-exercises/python-conditional-statements-and-loop-exercises.php"
   ]
  },
  {
   "cell_type": "markdown",
   "metadata": {},
   "source": [
    "Hinweis für die Musterlösung von Übung 33: Sie können wie folgt prüfen, ob eine Liste oder ein Tupel einen bestimmten Wert enthält:"
   ]
  },
  {
   "cell_type": "code",
   "execution_count": null,
   "metadata": {},
   "outputs": [],
   "source": [
    "3 in [1, 2, 3]"
   ]
  }
 ],
 "metadata": {
  "celltoolbar": "Slideshow",
  "kernelspec": {
   "display_name": "Python 3 (ipykernel)",
   "language": "python",
   "name": "python3"
  },
  "language_info": {
   "codemirror_mode": {
    "name": "ipython",
    "version": 3
   },
   "file_extension": ".py",
   "mimetype": "text/x-python",
   "name": "python",
   "nbconvert_exporter": "python",
   "pygments_lexer": "ipython3",
   "version": "3.13.5"
  },
  "livereveal": {
   "start_slideshow_at": "selected"
  }
 },
 "nbformat": 4,
 "nbformat_minor": 4
}
