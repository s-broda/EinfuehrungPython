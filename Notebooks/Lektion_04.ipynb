{
 "cells": [
  {
   "cell_type": "markdown",
   "metadata": {
    "slideshow": {
     "slide_type": "slide"
    }
   },
   "source": [
    "<p style=\"text-align: center; font-size: 300%\"> Einführung in die Programmierung mit Python </p>\n",
    "<img src=\"img/logo.svg\" alt=\"LOGO\" style=\"display:block; margin-left: auto; margin-right: auto; width: 30%;\">"
   ]
  },
  {
   "cell_type": "markdown",
   "metadata": {
    "editable": true,
    "slideshow": {
     "slide_type": "slide"
    },
    "tags": []
   },
   "source": [
    "## Syllabus\n",
    "1. Python installieren; Jupyter Notebooks\n",
    "2. Grundlagen: Arithmethik, Variablen und Datentypen\n",
    "3. Methoden; Listen; Bedingte Anweisungen\n",
    "4. **Schleifen**\n",
    "5. Benutzerdefinierte Funktionen\n",
    "6. Datenaufbereitung und Grafische Darstellungen"
   ]
  },
  {
   "cell_type": "markdown",
   "metadata": {
    "slideshow": {
     "slide_type": "slide"
    }
   },
   "source": [
    "# Kontrollfluss"
   ]
  },
  {
   "cell_type": "markdown",
   "metadata": {
    "slideshow": {
     "slide_type": "-"
    }
   },
   "source": [
    "## Schleifen\n",
    " * Eine Schleife wird verwendet, wenn eine Gruppe von Anweisungen mehr als einmal ausgeführt werden soll.\n",
    " * Python hat zwei Arten von Schleifen: `while`-Schleifen und `for`-Schleifen.\n",
    " * Eine `while`-Schleife wird verwendet, um Code auszuführen, solange eine Bedingung wahr ist.\n",
    " * Eine `for`-Schleife wird verwendet, um Code eine vorher festgelegte Anzahl von Malen auszuführen."
   ]
  },
  {
   "cell_type": "markdown",
   "metadata": {
    "slideshow": {
     "slide_type": "slide"
    }
   },
   "source": [
    "### `While`-Schleifen\n",
    "* Ähnlich wie `if`, aber springt nach dem Ende des `while`-Blocks zurück zur `while`-Anweisung."
   ]
  },
  {
   "cell_type": "code",
   "execution_count": null,
   "metadata": {},
   "outputs": [],
   "source": [
    "x = -1 # warum ist dies nötig?\n",
    "while x < 0 or x > 9:\n",
    "    x = int(input(\"Geben Sie eine Zahl zwischen 0 und 9 ein: \"))\n",
    "    if x < 0:\n",
    "        print(\"Sie haben eine negative Zahl eingegeben.\")\n",
    "    elif x > 9:\n",
    "        print(\"Sie haben eine Zahl grösser als 9 eingegeben.\")\n",
    "print(\"Danke. Sie haben \" + str(x) + \" eingegeben.\")"
   ]
  },
  {
   "cell_type": "markdown",
   "metadata": {
    "slideshow": {
     "slide_type": "slide"
    }
   },
   "source": [
    " * Alternative Implementierung:"
   ]
  },
  {
   "cell_type": "code",
   "execution_count": null,
   "metadata": {},
   "outputs": [],
   "source": [
    "while True:\n",
    "    x = int(input(\"Geben Sie eine Zahl zwischen 0 und 9 ein: \"))\n",
    "    if x < 0:\n",
    "        print(\"Sie haben eine negative Zahl eingegeben.\")        \n",
    "    elif x > 9:\n",
    "        print(\"Sie haben eine Zahl grösser als 9 eingegeben.\")\n",
    "    else:\n",
    "        print(\"Danke. Sie haben \" + str(x) + \" eingegeben.\")\n",
    "        break  # Beendet die innerste umschliessende Schleife.\n",
    "\n",
    "    \n"
   ]
  },
  {
   "cell_type": "markdown",
   "metadata": {
    "slideshow": {
     "slide_type": "slide"
    }
   },
   "source": [
    "Bemerkung: Wie `if`-Blöcke können auch `while`-Schleifen einen `else`-Block haben. Dieser wird ausgeführt, wenn die Bedingung falsch ist (oder wird). Dasselbe gilt natürlich, wenn man den Code im `else`-Block _nach_ der Schleife platziert, wie in unserer ersten Implementierung, aber die beiden Ansätze unterscheiden sich, wenn eine `break`-Anweisung vorhanden ist. Hier ist unsere erste Implementierung noch einmal, modifiziert, um dies zu verwenden:"
   ]
  },
  {
   "cell_type": "code",
   "execution_count": null,
   "metadata": {},
   "outputs": [],
   "source": [
    "x = -1 # warum ist dies nötig?\n",
    "while x < 0 or x > 9:\n",
    "    x = int(input(\"Geben Sie eine Zahl zwischen 0 und 9 ein: \"))\n",
    "    if x < 0:\n",
    "        print(\"Sie haben eine negative Zahl eingegeben.\")\n",
    "    elif x > 9:\n",
    "        print(\"Sie haben eine Zahl grösser als 9 eingegeben.\")\n",
    "else:\n",
    "    print(\"Danke. Sie haben \" + str(x) + \" eingegeben.\")"
   ]
  },
  {
   "cell_type": "markdown",
   "metadata": {
    "slideshow": {
     "slide_type": "slide"
    }
   },
   "source": [
    "### Übung: Zahlenratespiel\n",
    "Implementieren Sie das folgende Spiel: Der Computer wählt eine Zufallszahl, und der Spieler muss sie erraten. Nach dem Raten erhält der Spieler Rückmeldung, ob er korrekt, zu niedrig oder zu hoch geraten hat. Das Spiel endet, wenn die richtige Zahl erraten wurde. Beginnen Sie mit dem folgenden Gerüst."
   ]
  },
  {
   "cell_type": "code",
   "execution_count": null,
   "metadata": {},
   "outputs": [],
   "source": [
    "import random # ein Standardbibliotheksmodul (d.h. eingebaut). Mehr dazu später\n",
    "lower = 0\n",
    "upper = 100\n",
    "to_guess = random.randint(lower, upper) # eine Funktion aus dieser Bibliothek. Muss mit dem Modulnamen vorangestellt werden. Mehr dazu später.\n",
    "current_guess = -1\n",
    "while current_guess != to_guess:\n",
    "    break"
   ]
  },
  {
   "cell_type": "markdown",
   "metadata": {
    "slideshow": {
     "slide_type": "slide"
    }
   },
   "source": [
    "## `for`-Schleifen\n",
    "Dies ist die andere Art von Schleife, die von Python unterstützt wird. Sie iteriert über die Elemente einer Sequenz (z.B. einer Liste):"
   ]
  },
  {
   "cell_type": "code",
   "execution_count": null,
   "metadata": {},
   "outputs": [],
   "source": [
    "for letter in \"Python\":\n",
    "    print(letter)"
   ]
  },
  {
   "cell_type": "markdown",
   "metadata": {},
   "source": [
    "`letter` wird als Schleifenvariable bezeichnet. Jedes Mal, wenn der Schleifenkörper ausgeführt wird, nimmt sie der Reihe nach den Wert jedes Elements der Sequenz an."
   ]
  },
  {
   "cell_type": "markdown",
   "metadata": {
    "slideshow": {
     "slide_type": "slide"
    }
   },
   "source": [
    "### Range-Objekte"
   ]
  },
  {
   "cell_type": "markdown",
   "metadata": {
    "slideshow": {
     "slide_type": "-"
    }
   },
   "source": [
    "`range`-Objekte sind oft nützlich in Verbindung mit `for`-Schleifen, insbesondere für numerische Berechnungen.\n",
    "Sie repräsentieren Sequenzen von Ganzzahlen.\n",
    "\n",
    "Syntax:"
   ]
  },
  {
   "cell_type": "code",
   "execution_count": null,
   "metadata": {},
   "outputs": [],
   "source": [
    "myrange = range(1, 10, 2) # Start, Stop, Schritt; vgl. Slicing\n",
    "print(myrange)"
   ]
  },
  {
   "cell_type": "code",
   "execution_count": null,
   "metadata": {},
   "outputs": [],
   "source": [
    "type(myrange)"
   ]
  },
  {
   "cell_type": "code",
   "execution_count": null,
   "metadata": {},
   "outputs": [],
   "source": [
    "list(myrange)"
   ]
  },
  {
   "cell_type": "markdown",
   "metadata": {
    "slideshow": {
     "slide_type": "slide"
    }
   },
   "source": [
    " * Wie Sie sehen können, müssen wir das `range`-Objekt in eine `Liste` umwandeln, um seinen Inhalt zu sehen (dies sollte in der Praxis nicht getan werden).\n",
    " * Grund: Ein `range` materialisiert seinen Inhalt nicht bei der Erstellung, sondern erst bei der Verwendung.\n",
    " * Dies wird als `lazy` Berechnung bezeichnet.\n",
    " * Vorteil: `range`-Objekte können riesig sein, ohne Speicher zu verbrauchen.\n",
    " * Verwendung in `for`-Schleifen:"
   ]
  },
  {
   "cell_type": "code",
   "execution_count": null,
   "metadata": {},
   "outputs": [],
   "source": [
    "squares = []\n",
    "for element in range(1, 11): # Schritt ist optional\n",
    "    squares.append(element ** 2)\n",
    "print(squares)\n",
    "    "
   ]
  },
  {
   "cell_type": "markdown",
   "metadata": {
    "slideshow": {
     "slide_type": "slide"
    }
   },
   "source": [
    "Quiz: Was berechnet der folgende Code?"
   ]
  },
  {
   "cell_type": "code",
   "execution_count": null,
   "metadata": {},
   "outputs": [],
   "source": [
    "n = 5\n",
    "result = 1\n",
    "for i in range(1, n+1):\n",
    "    result = result * i # oder kürzer: result *= i\n",
    "print(result)"
   ]
  },
  {
   "cell_type": "markdown",
   "metadata": {
    "slideshow": {
     "slide_type": "slide"
    }
   },
   "source": [
    "`for`-Schleifen unterstützen `break` für ein frühzeitiges Abbrechen und eine `else`-Klausel, die ausgeführt wird, wenn die Schleife normal (d.h. nicht über `break`) endet:"
   ]
  },
  {
   "cell_type": "code",
   "execution_count": null,
   "metadata": {
    "slideshow": {
     "slide_type": "-"
    }
   },
   "outputs": [],
   "source": [
    "import random\n",
    "haystack = random.sample(range(1, 11), 10)\n",
    "print(haystack)"
   ]
  },
  {
   "cell_type": "code",
   "execution_count": null,
   "metadata": {},
   "outputs": [],
   "source": [
    "needle = 6\n",
    "counter = 0\n",
    "for elem in haystack:\n",
    "    if elem == needle:\n",
    "        print(needle, \"gefunden an Position \" + str(counter) + \".\")\n",
    "        break\n",
    "    counter += 1\n",
    "else:\n",
    "    print(needle, \" nicht gefunden.\")"
   ]
  },
  {
   "cell_type": "markdown",
   "metadata": {},
   "source": [
    "(wir hätten natürlich einfach `haystack.index(needle)` verwenden können).\n"
   ]
  },
  {
   "cell_type": "markdown",
   "metadata": {
    "slideshow": {
     "slide_type": "slide"
    }
   },
   "source": [
    "Schleifen können verschachtelt werden:"
   ]
  },
  {
   "cell_type": "code",
   "execution_count": null,
   "metadata": {},
   "outputs": [],
   "source": [
    "for row in range(1, 6):\n",
    "    for col in range(row):\n",
    "        print(\"*\", end=\"\") # end=\"\" unterdrückt den Zeilenumbruch\n",
    "    print()"
   ]
  },
  {
   "cell_type": "markdown",
   "metadata": {
    "slideshow": {
     "slide_type": "slide"
    }
   },
   "source": [
    "### Übung\n",
    "Vervollständigen Sie das folgende Codesnippet, sodass es die Primzahlen bis `N` ausgibt (derzeit gibt es alle Zahlen zwischen 2 und `N` aus).\n",
    "Hinweise:\n",
    " * `pass` ist ein syntaktischer Platzhalter. Dies müssen Sie ersetzen.\n",
    " * Der \"Modulo\"-Operator `%` gibt den Rest nach der Division zurück, d.h., `a % b == 0` ist `True`, wenn und nur wenn `a` durch `b` teilbar ist.\n",
    " * Verwenden Sie `break`.\n",
    " \n",
    " "
   ]
  },
  {
   "cell_type": "code",
   "execution_count": null,
   "metadata": {},
   "outputs": [],
   "source": [
    "N = 100\n",
    "for i in range(2, N+1):\n",
    "    for j in range(2, i):        \n",
    "        pass\n",
    "    else:\n",
    "        pass"
   ]
  },
  {
   "cell_type": "markdown",
   "metadata": {},
   "source": [
    "Hinweis: Dieser Algorithmus ist nicht effizient. Ein effizienterer Algorithmus ist das [Sieb des Eratosthenes](https://en.wikipedia.org/wiki/Sieve_of_Eratosthenes)."
   ]
  },
  {
   "cell_type": "markdown",
   "metadata": {
    "slideshow": {
     "slide_type": "slide"
    }
   },
   "source": [
    "## Hausaufgabe\n",
    "### Erweitern Sie das Zahlenratespiel\n",
    " 1. Der Spieler hat nur eine begrenzte Anzahl von Versuchen, sagen wir `n=10`. Wenn diese erreicht ist, stoppt das Spiel mit einer Nachricht an den Spieler.\n",
    " 2. Der Spieler kann das Spiel durch Eingabe einer negativen Zahl beenden. Der Computer sagt dann \"Tschüss.\".\n",
    " 3. Verbesserte Rückmeldung: Wenn der Spieler zu hoch rät (z.B. `to_guess` ist 50 und der Benutzer rät 75), fragt der Computer in der nächsten Runde nach einer Zahl zwischen 0 und 75. Analog, wenn die Schätzung zu niedrig ist."
   ]
  },
  {
   "cell_type": "markdown",
   "metadata": {
    "slideshow": {
     "slide_type": "slide"
    }
   },
   "source": [
    "## Weitere Hausaufgaben\n",
    "### `while`\n",
    " * Intermediate Übungen 9a, 9b von https://holypython.com/intermediate-python-exercises/\n",
    " * Optional: Übung 9 (schwierig) von https://www.w3resource.com/python-exercises/python-conditional-statements-and-loop-exercises.php\n",
    "\n",
    "Hinweis für die Musterlösung von Übung 9: Zwei Variablen können gleichzeitig wie folgt zugewiesen werden:"
   ]
  },
  {
   "cell_type": "code",
   "execution_count": null,
   "metadata": {},
   "outputs": [],
   "source": [
    "a, b = 1, 2\n",
    "print(a, b)"
   ]
  },
  {
   "cell_type": "markdown",
   "metadata": {},
   "source": [
    "### `for`\n",
    "* Übungen 1, 4, 6 von https://www.w3resource.com/python-exercises/python-conditional-statements-and-loop-exercises.php"
   ]
  }
 ],
 "metadata": {
  "celltoolbar": "Slideshow",
  "kernelspec": {
   "display_name": "Python [conda env:base] *",
   "language": "python",
   "name": "conda-base-py"
  },
  "language_info": {
   "codemirror_mode": {
    "name": "ipython",
    "version": 3
   },
   "file_extension": ".py",
   "mimetype": "text/x-python",
   "name": "python",
   "nbconvert_exporter": "python",
   "pygments_lexer": "ipython3",
   "version": "3.13.5"
  },
  "livereveal": {
   "start_slideshow_at": "selected"
  }
 },
 "nbformat": 4,
 "nbformat_minor": 4
}
