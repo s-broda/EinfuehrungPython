{
 "cells": [
  {
   "cell_type": "markdown",
   "metadata": {
    "slideshow": {
     "slide_type": "slide"
    }
   },
   "source": [
    "<p style=\"text-align: center; font-size: 300%\">Einführung in die Programmierung mit Python</p>\n",
    "<img src=\"img/logo.svg\" alt=\"LOGO\" style=\"display:block; margin-left: auto; margin-right: auto; width: 30%;\">"
   ]
  },
  {
   "cell_type": "markdown",
   "metadata": {
    "slideshow": {
     "slide_type": "slide"
    }
   },
   "source": [
    "# Vorbemerkungen\n",
    "\n",
    "## Allgemeine Informationen\n",
    "\n",
    "* Mein Name ist Simon Broda. E-Mail: [simon.broda@hslu.ch](mailto:simon.broda@hslu.ch).\n",
    "* Format des Kurses: Mischung aus Theorie und Übungen."
   ]
  },
  {
   "cell_type": "markdown",
   "metadata": {
    "slideshow": {
     "slide_type": "slide"
    }
   },
   "source": [
    "## Material\n",
    "* Diese Vorlesungsfolien.\n",
    "* Website: https://python-course.eu/\n",
    "* Quellen für zusätzliche Übungen:\n",
    "    * https://holypython.com/beginner-python-exercises/\n",
    "    * https://pythonbasics.org/exercises/\n",
    "* Weiterführende Literatur:\n",
    "  * [Python-Dokumentation](https://docs.python.org/3/index.html)"
   ]
  },
  {
   "cell_type": "markdown",
   "metadata": {
    "editable": true,
    "slideshow": {
     "slide_type": "slide"
    },
    "tags": []
   },
   "source": [
    "## Syllabus\n",
    "1. **Python installieren; Jupyter Notebooks**\n",
    "2. Grundlagen: Arithmethik, Variablen und Datentypen\n",
    "3. Methoden; Listen; Bedingte Anweisungen\n",
    "4. Schleifen\n",
    "5. Benutzerdefinierte Funktionen\n",
    "6. Datenaufbereitung und Grafische Darstellungen"
   ]
  },
  {
   "cell_type": "markdown",
   "metadata": {
    "collapsed": true,
    "jupyter": {
     "outputs_hidden": true
    },
    "slideshow": {
     "slide_type": "slide"
    }
   },
   "source": [
    "# Einführung in Python\n",
    "## Warum Python?\n",
    "* Allgemeine Programmiersprache, im Gegensatz zu z. B. Matlab®.\n",
    "* Hochsprache mit einfacher Syntax, interaktiv (*REPL*: read-eval-print loop). Daher ideal für schnelle Entwicklung.\n",
    "* Große Auswahl an verfügbaren Bibliotheken, auch für wissenschaftliches Rechnen und Finanzen.\n",
    "* Natives Python ist meist langsamer als kompilierte Sprachen wie C++. Dies wird durch hochoptimierte Bibliotheken wie NumPy für Array-Berechnungen ausgeglichen.\n",
    "* Kostenlose und quelloffene Software. Plattformübergreifend.\n",
    "* Python-Kenntnisse sind ein marktfähiges Gut: die beliebteste Sprache für Datenwissenschaft."
   ]
  },
  {
   "cell_type": "markdown",
   "metadata": {
    "slideshow": {
     "slide_type": "slide"
    }
   },
   "source": [
    "### Stellenanzeigen auf Indeed.com\n",
    "<img src=\"img/trends0.png\" alt=\"Stellenanzeigen auf Indeed.com\" style=\"display:block; margin-left: auto; margin-right: auto; width: 70%;\"/>"
   ]
  },
  {
   "cell_type": "markdown",
   "metadata": {},
   "source": [
    "[Quelle](https://www.ibm.com/developerworks/community/blogs/jfp/entry/What_Language_Is_Best_For_Machine_Learning_And_Data_Science?lang=en)"
   ]
  },
  {
   "cell_type": "markdown",
   "metadata": {
    "slideshow": {
     "slide_type": "slide"
    }
   },
   "source": [
    "# Aber Python kann noch viel mehr..."
   ]
  },
  {
   "cell_type": "code",
   "execution_count": null,
   "metadata": {
    "slideshow": {
     "slide_type": "slide"
    }
   },
   "outputs": [],
   "source": [
    "# uncomment the next line if you don't have googlesearch installed yet\n",
    "#!conda install -c conda-forge -y googlesearch\n",
    "from googlesearch import search\n",
    "query = \"best course for python\"\n",
    "for i in search(query, tld=\"com\", num=10, stop=10, pause=2):\n",
    "    print(i)"
   ]
  },
  {
   "cell_type": "code",
   "execution_count": null,
   "metadata": {
    "slideshow": {
     "slide_type": "slide"
    }
   },
   "outputs": [],
   "source": [
    "#!pip install instaloader\n",
    "import instaloader\n",
    "import glob\n",
    "from IPython.display import Image \n",
    "\n",
    "d = instaloader.Instaloader()\n",
    "profile_name = 'rogerfederer'\n",
    "d.download_profile(profile_name, profile_pic_only = True)\n",
    "for filename in glob.iglob('./' + profile_name + '/*.jpg', recursive=False):\n",
    "    pil_img = Image(filename)\n",
    "    display(pil_img)\n",
    "    break\n",
    "\n"
   ]
  },
  {
   "cell_type": "markdown",
   "metadata": {
    "editable": true,
    "slideshow": {
     "slide_type": "slide"
    },
    "tags": []
   },
   "source": [
    "Diese Beispiele stammen von https://dev.to/unitybuddy/9-amazing-things-to-do-with-python-1ln5. Schau es dir an, es gibt noch mehr!"
   ]
  },
  {
   "cell_type": "markdown",
   "metadata": {
    "slideshow": {
     "slide_type": "slide"
    }
   },
   "source": [
    "## Python beziehen\n",
    "* Anaconda ist eine Python-Distribution, entwickelt von Continuum Analytics, und speziell für wissenschaftliches Rechnen konzipiert.\n",
    "* Kommt mit eigenem Paketmanager (conda). Viele wichtige Pakete (der *SciPy-Stack*) sind vorinstalliert.\n",
    "* Wir werden es jetzt gemeinsam installieren. Du findest es [hier](https://www.anaconda.com/products/individual). Ich empfehle, es bei der Installation zum `PATH` hinzuzufügen.\n",
    "* Optional: Installiere das [RISE-Plugin](https://rise.readthedocs.io/en/stable/), um Notebooks als Präsentationen anzeigen zu können:"
   ]
  },
  {
   "cell_type": "code",
   "execution_count": null,
   "metadata": {},
   "outputs": [],
   "source": [
    "# uncomment the next line to install. Note: \"!\" executes shell commands.\n",
    "# !conda install -c conda-forge -y jupyterlab_rise"
   ]
  },
  {
   "cell_type": "markdown",
   "metadata": {
    "slideshow": {
     "slide_type": "slide"
    }
   },
   "source": [
    "## Jupyter-Notebooks\n",
    "* Wir verwenden *Jupyter-Notebooks* (JUlia PYThon (e) R, früher bekannt als IPython-Notebook), um mit Python zu interagieren.\n",
    "* Es ist eine Webanwendung, die es dir ermöglicht, Dokumente (<tt>*.ipynb</tt>) zu erstellen, die Text (formatiert in [Markdown](https://daringfireball.net/projects/markdown)), live Code und Gleichungen (formatiert in $\\LaTeX$) enthalten.\n",
    "* Tatsächlich basieren diese Folien auf Jupyter-Notebooks.\n",
    "* Du kannst Jupyter entweder über den Anaconda Navigator starten oder indem du `jupyter notebook` in der Eingabeaufforderung/Terminal eingibst."
   ]
  },
  {
   "cell_type": "markdown",
   "metadata": {
    "slideshow": {
     "slide_type": "slide"
    }
   },
   "source": [
    "<img src=\"img/jupyter.png\" alt=\"Ein Jupyter-Notebook\" style=\"display:block; margin-left: auto; margin-right: auto; width: 90%;\" />"
   ]
  },
  {
   "cell_type": "markdown",
   "metadata": {
    "slideshow": {
     "slide_type": "slide"
    }
   },
   "source": [
    "* Ein Notebook besteht aus Zellen, die entweder als Markdown (für Text und Gleichungen) oder als Code gekennzeichnet sind.\n",
    "* Du solltest dir einen Moment Zeit nehmen, um dich mit den Tastenkombinationen vertraut zu machen. Zum Beispiel: <tt>Enter</tt> wechselt in den Bearbeitungsmodus, <tt>Esc</tt> wechselt in den Befehlsmodus, <tt>Ctrl-Enter</tt> wertet eine Zelle aus, <tt>Shift-Enter</tt> wertet eine Zelle aus und wählt die darunterliegende aus.\n",
    "* Nützliche Referenzen:\n",
    "   * [Jupyter-Dokumentation](http://jupyter-notebook.readthedocs.io/en/latest/index.html);\n",
    "   * [Markdown-Spickzettel](https://github.com/adam-p/markdown-here/wiki/Markdown-Cheatsheet);\n",
    "   * [LaTeX-Mathematik-Spickzettel](https://en.wikibooks.org/wiki/LaTeX/Mathematics)."
   ]
  }
 ],
 "metadata": {
  "celltoolbar": "Slideshow",
  "kernelspec": {
   "display_name": "Python 3 (ipykernel)",
   "language": "python",
   "name": "python3"
  },
  "language_info": {
   "codemirror_mode": {
    "name": "ipython",
    "version": 3
   },
   "file_extension": ".py",
   "mimetype": "text/x-python",
   "name": "python",
   "nbconvert_exporter": "python",
   "pygments_lexer": "ipython3",
   "version": "3.13.5"
  },
  "livereveal": {
   "start_slideshow_at": "selected"
  }
 },
 "nbformat": 4,
 "nbformat_minor": 4
}
