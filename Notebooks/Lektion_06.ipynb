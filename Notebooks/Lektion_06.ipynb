{
 "cells": [
  {
   "cell_type": "markdown",
   "metadata": {
    "editable": true,
    "slideshow": {
     "slide_type": "slide"
    },
    "tags": []
   },
   "source": [
    "<p style=\"text-align: center; font-size: 300%\"> Einführung in die Programmierung mit Python </p>\n",
    "<img src=\"img/logo.svg\" alt=\"LOGO\" style=\"display:block; margin-left: auto; margin-right: auto; width: 30%;\">"
   ]
  },
  {
   "cell_type": "markdown",
   "metadata": {
    "editable": true,
    "slideshow": {
     "slide_type": "slide"
    },
    "tags": []
   },
   "source": [
    "## Syllabus\n",
    "1. Python installieren; Jupyter Notebooks\n",
    "2. Grundlagen: Arithmethik, Variablen und Datentypen\n",
    "3. Methoden; Listen; Bedingte Anweisungen\n",
    "4. Schleifen\n",
    "5. Benutzerdefinierte Funktionen\n",
    "6. **Datenaufbereitung und Grafische Darstellungen**"
   ]
  },
  {
   "cell_type": "markdown",
   "metadata": {
    "editable": true,
    "slideshow": {
     "slide_type": "slide"
    },
    "tags": []
   },
   "source": [
    "# Python-Pakete\n",
    "* Der Funktionsumfang von Python lässt sich mit sogenannten *Paketen* erweitern.\n",
    "* Viele davon sind in Anaconda bereits vorinstalliert. Wir müssen sie nur laden (*importieren*):"
   ]
  },
  {
   "cell_type": "code",
   "execution_count": null,
   "metadata": {
    "editable": true,
    "slideshow": {
     "slide_type": ""
    },
    "tags": []
   },
   "outputs": [],
   "source": [
    "import numpy  # Paket für numerische Berechnungen. Siehe optionales Notebook"
   ]
  },
  {
   "cell_type": "markdown",
   "metadata": {
    "editable": true,
    "slideshow": {
     "slide_type": ""
    },
    "tags": []
   },
   "source": [
    "Nun kann man Funktionen aus dem Paket wie folgt verwenden:"
   ]
  },
  {
   "cell_type": "code",
   "execution_count": null,
   "metadata": {
    "editable": true,
    "slideshow": {
     "slide_type": ""
    },
    "tags": []
   },
   "outputs": [],
   "source": [
    "numpy.mean([1, 2, 3])"
   ]
  },
  {
   "cell_type": "markdown",
   "metadata": {
    "editable": true,
    "slideshow": {
     "slide_type": "slide"
    },
    "tags": []
   },
   "source": [
    "Um sich Tipparbeit zu ersparen, kann man beim Import einen Kurznamen angeben. Dieser ist willkürlich, aber für häufig genutzte Pakete haben sich Konventionen ergeben, z.B. `np` für numpy:"
   ]
  },
  {
   "cell_type": "code",
   "execution_count": null,
   "metadata": {
    "editable": true,
    "slideshow": {
     "slide_type": ""
    },
    "tags": []
   },
   "outputs": [],
   "source": [
    "import numpy as np\n",
    "np.mean([1, 2, 3])"
   ]
  },
  {
   "cell_type": "markdown",
   "metadata": {
    "editable": true,
    "slideshow": {
     "slide_type": ""
    },
    "tags": []
   },
   "source": [
    "Es ist auch möglich, bestimmte Funktionen aus einem Paket zu importieren, so dass man sie direkt verwenden kann:"
   ]
  },
  {
   "cell_type": "code",
   "execution_count": null,
   "metadata": {
    "editable": true,
    "slideshow": {
     "slide_type": ""
    },
    "tags": []
   },
   "outputs": [],
   "source": [
    "from numpy import mean\n",
    "mean([1, 2, 3])"
   ]
  },
  {
   "cell_type": "markdown",
   "metadata": {
    "editable": true,
    "slideshow": {
     "slide_type": "slide"
    },
    "tags": []
   },
   "source": [
    "### Pandas Dataframes\n",
    "#### Einführung in Pandas\n",
    "* `pandas` (von *p*anel *d*ata) ist eines der wichtigsten Pakete ([Benutzerhandbuch](http://pandas.pydata.org/pandas-docs/stable/overview.html)).\n",
    "* Es bietet eine Reihe von Datenstrukturen (*series*, *dataframes* und *panels*), die für die Speicherung von Beobachtungsdaten entwickelt wurden, sowie leistungsstarke Methoden zur Manipulation (*munging* oder *wrangling*) dieser Daten.\n",
    "* Es wird üblicherweise als `pd` importiert:"
   ]
  },
  {
   "cell_type": "code",
   "execution_count": null,
   "metadata": {},
   "outputs": [],
   "source": [
    "import pandas as pd"
   ]
  },
  {
   "cell_type": "markdown",
   "metadata": {},
   "source": [
    "* Pandas ist unglaublich leistungsfähig; wir werden hier nur die Oberfläche ankratzen. In der Praxis sind LLMs nützlich, um jeweils die richtige Syntax zu finden."
   ]
  },
  {
   "cell_type": "markdown",
   "metadata": {
    "slideshow": {
     "slide_type": "slide"
    }
   },
   "source": [
    "#### Series\n",
    "* Eine Pandas `Series` ist im Wesentlichen ähnlich einer Liste (genauer einem NumPy-Array), jedoch nicht unbedingt mit Ganzzahlen indiziert."
   ]
  },
  {
   "cell_type": "code",
   "execution_count": null,
   "metadata": {
    "slideshow": {
     "slide_type": "-"
    }
   },
   "outputs": [],
   "source": [
    "pop = pd.Series([5.7, 82.7, 17.0], name='Bevölkerung'); pop  # der beschreibende Name ist optional"
   ]
  },
  {
   "cell_type": "markdown",
   "metadata": {},
   "source": [
    "* Der Unterschied ist, dass der Index beliebig sein kann, nicht nur eine Liste von Ganzzahlen:"
   ]
  },
  {
   "cell_type": "code",
   "execution_count": null,
   "metadata": {},
   "outputs": [],
   "source": [
    "pop.index=['DK', 'DE', 'NL']"
   ]
  },
  {
   "cell_type": "markdown",
   "metadata": {},
   "source": [
    "* Der Index kann für die Indizierung verwendet werden (offensichtlich...):"
   ]
  },
  {
   "cell_type": "code",
   "execution_count": null,
   "metadata": {},
   "outputs": [],
   "source": [
    "pop['NL']"
   ]
  },
  {
   "cell_type": "markdown",
   "metadata": {
    "slideshow": {
     "slide_type": "slide"
    }
   },
   "source": [
    "* Der Index bleibt bei Operationen an einer `Series` erhalten:"
   ]
  },
  {
   "cell_type": "code",
   "execution_count": null,
   "metadata": {
    "slideshow": {
     "slide_type": "-"
    }
   },
   "outputs": [],
   "source": [
    "gdp = pd.Series([3494.898, 769.930], name='Nominales BIP in Milliarden USD', index=['DE', 'NL']); gdp"
   ]
  },
  {
   "cell_type": "code",
   "execution_count": null,
   "metadata": {},
   "outputs": [],
   "source": [
    "gdp / pop"
   ]
  },
  {
   "cell_type": "markdown",
   "metadata": {
    "editable": true,
    "slideshow": {
     "slide_type": ""
    },
    "tags": []
   },
   "source": [
    "* Ein Vorteil von `Series` im Vergleich zu Listen (bzw. NumPy-Arrays) ist, dass sie mit fehlenden Daten umgehen können, die als `NaN` (Not A Number) dargestellt werden."
   ]
  },
  {
   "cell_type": "markdown",
   "metadata": {
    "editable": true,
    "slideshow": {
     "slide_type": "slide"
    },
    "tags": []
   },
   "source": [
    "#### Dataframes"
   ]
  },
  {
   "cell_type": "markdown",
   "metadata": {},
   "source": [
    "* Ein `DataFrame` ist eine Sammlung von `Series` mit einem gemeinsamen Index (der die Zeilen beschriftet)."
   ]
  },
  {
   "cell_type": "code",
   "execution_count": null,
   "metadata": {},
   "outputs": [],
   "source": [
    "data = pd.concat([gdp, pop], axis=1, sort=False); data  # zwei Series zu einem DataFrame zusammenführen."
   ]
  },
  {
   "cell_type": "markdown",
   "metadata": {},
   "source": [
    "* Spalten werden durch Spaltennamen indiziert:"
   ]
  },
  {
   "cell_type": "code",
   "execution_count": null,
   "metadata": {},
   "outputs": [],
   "source": [
    "data.columns"
   ]
  },
  {
   "cell_type": "code",
   "execution_count": null,
   "metadata": {},
   "outputs": [],
   "source": [
    "data['Bevölkerung']  # data.Bevölkerung funktioniert auch"
   ]
  },
  {
   "cell_type": "markdown",
   "metadata": {
    "slideshow": {
     "slide_type": "slide"
    }
   },
   "source": [
    "* Zeilen werden mit der Methode `loc` indiziert:"
   ]
  },
  {
   "cell_type": "code",
   "execution_count": null,
   "metadata": {},
   "outputs": [],
   "source": [
    "data.loc['NL']"
   ]
  },
  {
   "cell_type": "markdown",
   "metadata": {
    "slideshow": {
     "slide_type": "-"
    }
   },
   "source": [
    "* Im Gegensatz zu Arrays können Dataframes Spalten mit unterschiedlichen Datentypen haben.\n",
    "* Es gibt verschiedene Möglichkeiten, Spalten hinzuzufügen. Eine davon ist, einfach einer neuen Spalte zuzuweisen:"
   ]
  },
  {
   "cell_type": "code",
   "execution_count": null,
   "metadata": {
    "editable": true,
    "scrolled": true,
    "slideshow": {
     "slide_type": "-"
    },
    "tags": []
   },
   "outputs": [],
   "source": [
    "data['Sprache'] = ['Deutsch', 'Niederländisch', 'Dänisch']  # eine neue Spalte aus einer Liste hinzufügen"
   ]
  },
  {
   "cell_type": "markdown",
   "metadata": {
    "editable": true,
    "slideshow": {
     "slide_type": "slide"
    },
    "tags": []
   },
   "source": [
    "* Um Zeilen hinzuzufügen, verwenden Sie `loc` oder `concat`:"
   ]
  },
  {
   "cell_type": "code",
   "execution_count": null,
   "metadata": {
    "slideshow": {
     "slide_type": "-"
    }
   },
   "outputs": [],
   "source": [
    "print(data.loc[\"DE\"])\n",
    "data.loc['AT'] = [386.4, 8.7, 'Deutsch']  # eine Zeile mit dem Index 'AT' hinzufügen.\n",
    "s = pd.DataFrame([[511.0, 9.9, 'Schwedisch']], index=['SE'], columns=data.columns)\n",
    "data = pd.concat([data, s])  # eine Zeile durch Anhängen eines weiteren Dataframes hinzufügen. Kann Duplikate erzeugen.\n",
    "data"
   ]
  },
  {
   "cell_type": "markdown",
   "metadata": {
    "slideshow": {
     "slide_type": "slide"
    }
   },
   "source": [
    "* Die Methode `dropna` kann verwendet werden, um Zeilen mit fehlenden Werten zu löschen:"
   ]
  },
  {
   "cell_type": "code",
   "execution_count": null,
   "metadata": {},
   "outputs": [],
   "source": [
    "data = data.dropna(); data"
   ]
  },
  {
   "cell_type": "markdown",
   "metadata": {
    "slideshow": {
     "slide_type": "slide"
    }
   },
   "source": [
    "* Nützliche Methoden zur Gewinnung von Zusammenfassungsinformationen über einen Dataframe sind `mean`, `std`, `info`, `describe`, `head` und `tail`."
   ]
  },
  {
   "cell_type": "code",
   "execution_count": null,
   "metadata": {},
   "outputs": [],
   "source": [
    "data.describe()"
   ]
  },
  {
   "cell_type": "code",
   "execution_count": null,
   "metadata": {},
   "outputs": [],
   "source": [
    "data.head() # zeigt die ersten paar Zeilen; data.tail zeigt die letzten paar"
   ]
  },
  {
   "cell_type": "markdown",
   "metadata": {
    "slideshow": {
     "slide_type": "slide"
    }
   },
   "source": [
    "* Um einen Dataframe als CSV-Datei auf der Festplatte zu speichern, verwenden Sie"
   ]
  },
  {
   "cell_type": "code",
   "execution_count": null,
   "metadata": {},
   "outputs": [],
   "source": [
    "data.to_csv('myfile.csv') # to_excel existiert ebenfalls."
   ]
  },
  {
   "cell_type": "markdown",
   "metadata": {},
   "source": [
    "* Um Daten in einen Dataframe zu laden, verwenden Sie `pd.read_csv`:"
   ]
  },
  {
   "cell_type": "code",
   "execution_count": null,
   "metadata": {},
   "outputs": [],
   "source": [
    "pd.read_csv('myfile.csv', index_col=0)"
   ]
  },
  {
   "cell_type": "code",
   "execution_count": null,
   "metadata": {},
   "outputs": [],
   "source": [
    "import os\n",
    "os.remove('myfile.csv') # aufräumen"
   ]
  },
  {
   "cell_type": "markdown",
   "metadata": {
    "editable": true,
    "slideshow": {
     "slide_type": "slide"
    },
    "tags": []
   },
   "source": [
    "Normalerweise erstellen Sie Dataframes nicht von Grund auf; sie entstehen eher durch das Abrufen von Daten aus einer Quelle. Zum Beispiel kann das Paket yfinance Daten direkt von Yahoo Finance herunterladen."
   ]
  },
  {
   "cell_type": "code",
   "execution_count": null,
   "metadata": {
    "editable": true,
    "slideshow": {
     "slide_type": ""
    },
    "tags": []
   },
   "outputs": [],
   "source": [
    "# !pip install yfinance\n",
    "import yfinance as yf\n",
    "from datetime import datetime, timedelta\n",
    "end_date = datetime.now()\n",
    "start_date = end_date - timedelta(days=5*365)  # siehe unten\n",
    "nvda_data = yf.download('NVDA', start=start_date, end=end_date)\n",
    "nvda_data.head()"
   ]
  },
  {
   "cell_type": "markdown",
   "metadata": {
    "editable": true,
    "slideshow": {
     "slide_type": "slide"
    },
    "tags": []
   },
   "source": [
    "## Plotten\n",
    "Pandas kann direkt zum Plotten verwendet werden. Erweiterte Funktionen erfordern `matplotlib` (mehr dazu unten)."
   ]
  },
  {
   "cell_type": "code",
   "execution_count": null,
   "metadata": {
    "slideshow": {
     "slide_type": "-"
    }
   },
   "outputs": [],
   "source": [
    "nvda_data.Close.plot()"
   ]
  },
  {
   "cell_type": "markdown",
   "metadata": {
    "slideshow": {
     "slide_type": "slide"
    }
   },
   "source": [
    "* Erweitertes Plotten erfordert die Bibliothek `matplotlib` ([Benutzerhandbuch](https://matplotlib.org/users/index.html)), die von den Plotting-Funktionen von Matlab&reg; inspiriert ist.\n",
    "* Die Haupt-Plotting-Funktionen befinden sich im Modul `pyplot`. Es wird üblicherweise importiert als"
   ]
  },
  {
   "cell_type": "code",
   "execution_count": null,
   "metadata": {},
   "outputs": [],
   "source": [
    "import matplotlib.pyplot as plt"
   ]
  },
  {
   "cell_type": "markdown",
   "metadata": {
    "slideshow": {
     "slide_type": "slide"
    }
   },
   "source": [
    "`matplotlib` ermöglicht es uns, den obigen Plot zu customizen:"
   ]
  },
  {
   "cell_type": "code",
   "execution_count": null,
   "metadata": {},
   "outputs": [],
   "source": [
    "nvda_data.Close.plot()\n",
    "plt.xlabel(\"Date\")\n",
    "plt.ylabel(\"Price\")\n",
    "plt.gcf().autofmt_xdate()\n",
    "plt.show()"
   ]
  },
  {
   "cell_type": "markdown",
   "metadata": {},
   "source": [
    "* Die Bibliothek `seaborn` ([Benutzerhandbuch](https://seaborn.pydata.org/tutorial.html)) bietet statistische Visualisierungen auf höherem Niveau:"
   ]
  },
  {
   "cell_type": "code",
   "execution_count": null,
   "metadata": {},
   "outputs": [],
   "source": [
    "# !pip install seaborn\n",
    "import seaborn as sns\n",
    "sns.set_style(\"whitegrid\")  # Kosmetik\n",
    "sns.set_palette(\"viridis\")  # Kosmetik\n",
    "\n",
    "returns = nvda_data.Close.pct_change()  # Tagesrenditen\n",
    "\n",
    "sns.histplot(data=returns, bins=30, kde=True, stat=\"density\", alpha=0.6)\n",
    "plt.title(\"Distribution of Returns\", fontsize=14, pad=15)\n",
    "plt.xlabel(\"Value\", fontsize=12)\n",
    "plt.ylabel(\"Density\", fontsize=12)\n",
    "plt.tight_layout()\n",
    "plt.show()"
   ]
  },
  {
   "cell_type": "markdown",
   "metadata": {
    "slideshow": {
     "slide_type": "slide"
    }
   },
   "source": [
    "* Ich werde hier nur eine kurze Einführung in matplotlib geben. Das grundlegende Objekt in matplotlib ist eine `Figure`, in der sich `Subplots` (oder `Axes`) befinden.\n",
    "* Um eine neue Figure zu erstellen, einen Axis hinzuzufügen und darauf zu plotten:"
   ]
  },
  {
   "cell_type": "code",
   "execution_count": null,
   "metadata": {},
   "outputs": [],
   "source": [
    "# mit dem Inline-Backend müssen diese im selben Cell sein.\n",
    "fig = plt.figure(figsize=(6,3)) # eine neue leere Figure erstellen. Größe ist optional.\n",
    "ax1 = fig.add_subplot(121) # Layout: (1x2). ax1 ist der obere linke\n",
    "ax2 = fig.add_subplot(122)\n",
    "ax1.plot(range(10))\n",
    "ax2.plot(range(10, 0, -1));"
   ]
  },
  {
   "cell_type": "markdown",
   "metadata": {
    "slideshow": {
     "slide_type": "slide"
    }
   },
   "source": [
    "* Standardmäßig plottet matplotlib in den aktuellen Axis und erstellt einen (sowie eine Figure), falls nötig. Mit der Bequemlichkeitsmethode `subplot` können wir dasselbe erreichen, ohne explizit auf Figures und Axes zu verweisen:"
   ]
  },
  {
   "cell_type": "code",
   "execution_count": null,
   "metadata": {
    "slideshow": {
     "slide_type": "-"
    }
   },
   "outputs": [],
   "source": [
    "plt.subplot(121)\n",
    "plt.plot(range(10))\n",
    "plt.subplot(122) \n",
    "plt.plot(range(10, 0, -1));"
   ]
  },
  {
   "cell_type": "markdown",
   "metadata": {
    "slideshow": {
     "slide_type": "slide"
    }
   },
   "source": [
    "* Um zwei Vektoren $x$ und $y$ gegeneinander zu plotten:"
   ]
  },
  {
   "cell_type": "code",
   "execution_count": null,
   "metadata": {
    "slideshow": {
     "slide_type": "-"
    }
   },
   "outputs": [],
   "source": [
    "import numpy as np\n",
    "x = np.linspace(-10, 10, 100)\n",
    "y = x**2\n",
    "plt.plot(x,y,'r--') # gestrichelte rote Linie\n",
    "plt.xlabel('$x$') # Mathematische (LaTeX) Gleichungen können durch Einschließen in $$ eingefügt werden.\n",
    "plt.ylabel('$y$')\n",
    "plt.title('Eine Parabel')\n",
    "plt.legend(['$f(x)$']) # erwartet eine Liste von Strings\n",
    "plt.xlim(xmin=-8, xmax=8); # Achsengrenzen\n",
    "# plt.savefig('filename.pdf') # den Plot auf der Festplatte speichern"
   ]
  },
  {
   "cell_type": "markdown",
   "metadata": {
    "slideshow": {
     "slide_type": "slide"
    }
   },
   "source": [
    "### Ein fortgeschrittenes Beispiel: Quantile der Normalverteilung"
   ]
  },
  {
   "cell_type": "code",
   "execution_count": null,
   "metadata": {
    "slideshow": {
     "slide_type": "-"
    }
   },
   "outputs": [],
   "source": [
    "from matplotlib.patches import Polygon\n",
    "import scipy.stats as stats\n",
    "a, b, c = -5, 5, stats.norm.ppf(0.05)\n",
    "x = np.linspace(a, b, 500)\n",
    "y = stats.norm.pdf(x)\n",
    "fig = plt.figure(figsize=(7, 5))\n",
    "ax = fig.add_subplot(111)\n",
    "plt.plot(x, y, 'b', linewidth=2)\n",
    "plt.ylim(ymin=0)\n",
    "plt.xlim(xmin=a, xmax=b)\n",
    "Ix = np.linspace(a, c)\n",
    "Iy = stats.norm.pdf(Ix)\n",
    "verts = [(a, 0)] + list(zip(Ix, Iy)) + [(c, 0)]\n",
    "poly = Polygon(verts, facecolor='0.7', edgecolor='0.5')\n",
    "ax.add_patch(poly)\n",
    "ax.annotate(\n",
    "            '2.5%', xy=(-2, 0.025), xytext=(-3, 0.1),\n",
    "            arrowprops=dict(width=.5),\n",
    "            )\n",
    "plt.xlabel('$x$')\n",
    "plt.ylabel('$f(x)$')\n",
    "ax.set_xticks([c, 0])\n",
    "ax.set_xticklabels(['$-1.96$', '0'])\n",
    "ax.set_yticks([])\n",
    "plt.savefig('img/var.svg')\n",
    "plt.close()"
   ]
  },
  {
   "cell_type": "markdown",
   "metadata": {
    "slideshow": {
     "slide_type": "slide"
    }
   },
   "source": [
    "<img src=\"img/var.svg\" alt=\"VaR\" style=\"display:block; margin-left: auto; margin-right: auto; width: 80%;\">"
   ]
  },
  {
   "cell_type": "markdown",
   "metadata": {
    "slideshow": {
     "slide_type": "slide"
    }
   },
   "source": [
    "## Arbeiten mit Zeitreihen\n",
    "### Datentypen"
   ]
  },
  {
   "cell_type": "markdown",
   "metadata": {},
   "source": [
    "* Es gibt verschiedene Datentypen in Python zur Darstellung von Zeiten und Daten.\n",
    "* Der grundlegendste ist `datetime` aus dem gleichnamigen Paket:"
   ]
  },
  {
   "cell_type": "code",
   "execution_count": null,
   "metadata": {},
   "outputs": [],
   "source": [
    "from datetime import datetime\n",
    "datetime.today()"
   ]
  },
  {
   "cell_type": "markdown",
   "metadata": {},
   "source": [
    "* `datetime`-Objekte können aus Strings mit `strptime` und einem Format-Spezifizierer erstellt werden:"
   ]
  },
  {
   "cell_type": "code",
   "execution_count": null,
   "metadata": {},
   "outputs": [],
   "source": [
    "datetime.strptime('2017-03-31', '%Y-%m-%d')"
   ]
  },
  {
   "cell_type": "markdown",
   "metadata": {
    "slideshow": {
     "slide_type": "slide"
    }
   },
   "source": [
    "* Pandas verwendet `Timestamps` anstelle von `datetime`-Objekten. Im Gegensatz zu Timestamps speichern sie Frequenz- und Zeitzoneninformationen. Die beiden können größtenteils austauschbar verwendet werden."
   ]
  },
  {
   "cell_type": "code",
   "execution_count": null,
   "metadata": {},
   "outputs": [],
   "source": [
    "pd.Timestamp('2017-03-31')"
   ]
  },
  {
   "cell_type": "markdown",
   "metadata": {},
   "source": [
    "* Eine Zeitreihe ist eine `Series` mit einem speziellen Index, genannt `DatetimeIndex`; im Wesentlichen ein Array von `Timestamp`s.\n",
    "* Sie kann mit der Funktion `date_range` erstellt werden."
   ]
  },
  {
   "cell_type": "code",
   "execution_count": null,
   "metadata": {},
   "outputs": [],
   "source": [
    "import numpy as np\n",
    "myindex = pd.date_range(end=pd.Timestamp.today(), normalize=True, periods=100, freq='B')\n",
    "P = 20 + np.random.randn(100).cumsum()  # einige Aktienkurse erfinden.\n",
    "aapl = pd.Series(P, name=\"AAPL\", index=myindex)\n",
    "aapl.tail()"
   ]
  },
  {
   "cell_type": "markdown",
   "metadata": {
    "slideshow": {
     "slide_type": "slide"
    }
   },
   "source": [
    "* Zur Vereinfachung erlaubt Pandas die Indizierung von Zeitreihen mit Datumsstrings:"
   ]
  },
  {
   "cell_type": "code",
   "execution_count": null,
   "metadata": {},
   "outputs": [],
   "source": [
    "aapl['4/11/2025']"
   ]
  },
  {
   "cell_type": "markdown",
   "metadata": {
    "slideshow": {
     "slide_type": "slide"
    }
   },
   "source": [
    "# Empfohlene Lektüre\n",
    "* https://python-course.eu/numerical-programming/ 23-28, 32-34"
   ]
  },
  {
   "cell_type": "markdown",
   "metadata": {
    "slideshow": {
     "slide_type": "slide"
    }
   },
   "source": [
    "# Hausaufgaben"
   ]
  },
  {
   "cell_type": "markdown",
   "metadata": {
    "editable": true,
    "slideshow": {
     "slide_type": ""
    },
    "tags": []
   },
   "source": [
    "https://github.com/guipsamora/pandas_exercises/tree/master/01_Getting_%26_Knowing_Your_Data/Chipotle (Nur bis Aufgabe 12. Zusätzlich: Visualisieren Sie die Verteilung der Artikelpreise mit Seaborn und/oder Matplotlib)"
   ]
  },
  {
   "cell_type": "code",
   "execution_count": null,
   "metadata": {},
   "outputs": [],
   "source": []
  }
 ],
 "metadata": {
  "celltoolbar": "Slideshow",
  "kernelspec": {
   "display_name": "Python 3 (ipykernel)",
   "language": "python",
   "name": "python3"
  },
  "language_info": {
   "codemirror_mode": {
    "name": "ipython",
    "version": 3
   },
   "file_extension": ".py",
   "mimetype": "text/x-python",
   "name": "python",
   "nbconvert_exporter": "python",
   "pygments_lexer": "ipython3",
   "version": "3.13.5"
  },
  "livereveal": {
   "start_slideshow_at": "selected"
  }
 },
 "nbformat": 4,
 "nbformat_minor": 4
}
