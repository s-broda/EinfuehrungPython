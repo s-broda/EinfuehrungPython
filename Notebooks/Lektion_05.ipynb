{
 "cells": [
  {
   "cell_type": "markdown",
   "metadata": {
    "editable": true,
    "slideshow": {
     "slide_type": "slide"
    },
    "tags": []
   },
   "source": [
    "<p style=\"text-align: center; font-size: 300%\"> Einführung in die Programmierung mit Python </p>\n",
    "<img src=\"img/logo.svg\" alt=\"LOGO\" style=\"display:block; margin-left: auto; margin-right: auto; width: 30%;\">"
   ]
  },
  {
   "cell_type": "markdown",
   "metadata": {
    "editable": true,
    "slideshow": {
     "slide_type": "slide"
    },
    "tags": []
   },
   "source": [
    "## Syllabus\n",
    "1. Python installieren; Jupyter Notebooks\n",
    "2. Grundlagen: Arithmethik, Variablen und Datentypen\n",
    "3. Methoden; Listen; Bedingte Anweisungen\n",
    "4. Schleifen\n",
    "5. **Benutzerdefinierte Funktionen**\n",
    "6. Datenaufbereitung und Grafische Darstellungen"
   ]
  },
  {
   "cell_type": "markdown",
   "metadata": {
    "slideshow": {
     "slide_type": "slide"
    }
   },
   "source": [
    "# Funktionen\n",
    "* Funktionen sind eine Möglichkeit, Code zu organisieren. Die Grundidee ist, dass Sie ein Stück Code, das wahrscheinlich mehr als einmal verwendet wird, in eine Funktion auslagern, damit es wiederverwendet werden kann.\n",
    "* Wir haben bereits einige Funktionen kennengelernt, wie z.B. `print`, `sum`, etc.\n",
    "    "
   ]
  },
  {
   "cell_type": "code",
   "execution_count": null,
   "metadata": {},
   "outputs": [],
   "source": [
    "sum([1, 2, 3])"
   ]
  },
  {
   "cell_type": "markdown",
   "metadata": {
    "slideshow": {
     "slide_type": "slide"
    }
   },
   "source": [
    "* Eine Funktion akzeptiert null oder mehr Eingaben, sogenannte _Argumente_. `sum` oben nimmt (mindestens) eines (probieren Sie aus, was passiert, wenn Sie keine Argumente übergeben).\n",
    "* Andere Funktionen nehmen beliebig viele Argumente, wie `print`:"
   ]
  },
  {
   "cell_type": "code",
   "execution_count": null,
   "metadata": {},
   "outputs": [],
   "source": [
    "print()\n",
    "print(1)\n",
    "print(1, 2)"
   ]
  },
  {
   "cell_type": "markdown",
   "metadata": {
    "slideshow": {
     "slide_type": "slide"
    }
   },
   "source": [
    "* Wenn ein Benutzer die Funktion aufruft, macht sie (meistens) etwas mit ihren Argumenten und muss dann das Ergebnis dieser Operation für den Benutzer oder den umgebenden Code verfügbar machen.\n",
    "* Es gibt zwei Möglichkeiten, das Ergebnis verfügbar zu machen:\n",
    "    - \"Nebenwirkungen\", und\n",
    "    - Rückgabewerte\n",
    "* Es ist wichtig, den Unterschied zwischen den beiden zu verstehen."
   ]
  },
  {
   "cell_type": "markdown",
   "metadata": {
    "slideshow": {
     "slide_type": "slide"
    }
   },
   "source": [
    "Betrachten Sie erneut die `print`-Funktion. Sie macht das Ergebnis ihrer Aktion sichtbar, indem sie auf den Bildschirm ausgibt:"
   ]
  },
  {
   "cell_type": "code",
   "execution_count": null,
   "metadata": {},
   "outputs": [],
   "source": [
    "print(5)"
   ]
  },
  {
   "cell_type": "markdown",
   "metadata": {},
   "source": [
    "Andere Nebenwirkungen könnten das Ändern einer Datei, das Abspielen eines Tons, das Herunterfahren des Computers usw. umfassen."
   ]
  },
  {
   "cell_type": "markdown",
   "metadata": {
    "slideshow": {
     "slide_type": "slide"
    }
   },
   "source": [
    "Die `sum`-Funktion ist anders; sie gibt nichts aus:"
   ]
  },
  {
   "cell_type": "code",
   "execution_count": null,
   "metadata": {},
   "outputs": [],
   "source": [
    "a = sum([1, 2, 3])"
   ]
  },
  {
   "cell_type": "markdown",
   "metadata": {},
   "source": [
    "Stattdessen _retourniert_ sie ihr Ergebnis. Das bedeutet, dass das Ergebnis einer Variable zugewiesen werden kann, wie oben.\n",
    "Wir können dann natürlich die Variable ausgeben:"
   ]
  },
  {
   "cell_type": "code",
   "execution_count": null,
   "metadata": {},
   "outputs": [],
   "source": [
    "print(a)"
   ]
  },
  {
   "cell_type": "markdown",
   "metadata": {},
   "source": [
    "Die `print`-Funktion hingegen gibt nichts zurück (oder besser gesagt, sie gibt `None` zurück, einen speziellen Datentyp, der Nichts repräsentiert):"
   ]
  },
  {
   "cell_type": "code",
   "execution_count": null,
   "metadata": {},
   "outputs": [],
   "source": [
    "b = print()\n",
    "print(b)"
   ]
  },
  {
   "cell_type": "markdown",
   "metadata": {
    "slideshow": {
     "slide_type": "slide"
    }
   },
   "source": [
    "## Hinweis\n",
    "In Jupyter kann der Unterschied zwischen dem Ausgeben und dem Zurückgeben eines Ergebnisses schwer zu erkennen sein, da Jupyter-Notebooks automatisch den Wert ausgeben, der von dem letzten Ausdruck in einer Zelle zurückgegeben wird, es sei denn, Sie beenden die Zeile mit einem Semikolon, um die Ausgabe zu unterdrücken. Betrachten Sie Folgendes:"
   ]
  },
  {
   "cell_type": "code",
   "execution_count": null,
   "metadata": {},
   "outputs": [],
   "source": [
    "sum([1, 2, 3])"
   ]
  },
  {
   "cell_type": "code",
   "execution_count": null,
   "metadata": {},
   "outputs": [],
   "source": [
    "sum([1, 2, 3]);"
   ]
  },
  {
   "cell_type": "code",
   "execution_count": null,
   "metadata": {},
   "outputs": [],
   "source": [
    "print(6)"
   ]
  },
  {
   "cell_type": "code",
   "execution_count": null,
   "metadata": {},
   "outputs": [],
   "source": [
    "print(6);"
   ]
  },
  {
   "cell_type": "markdown",
   "metadata": {
    "slideshow": {
     "slide_type": "slide"
    }
   },
   "source": [
    "## Funktionen definieren\n",
    "* Benutzerdefinierte Funktionen werden mit dem Schlüsselwort `def` deklariert:"
   ]
  },
  {
   "cell_type": "code",
   "execution_count": null,
   "metadata": {},
   "outputs": [],
   "source": [
    "def mypower(x, y):  # null oder mehr Argumente, hier zwei    \n",
    "    return x**y "
   ]
  },
  {
   "cell_type": "code",
   "execution_count": null,
   "metadata": {},
   "outputs": [],
   "source": [
    "b = mypower(2, 3)\n",
    "print(b)"
   ]
  },
  {
   "cell_type": "markdown",
   "metadata": {},
   "source": [
    "Beachten Sie, wie die vom Benutzer übergebenen Argumente innerhalb der Funktion als die Variablen `x` und `y` verfügbar sind."
   ]
  },
  {
   "cell_type": "markdown",
   "metadata": {
    "slideshow": {
     "slide_type": "slide"
    }
   },
   "source": [
    "### Übung\n",
    "Schreiben Sie eine Funktion `area`, die zwei Zahlen als Eingabe nimmt (die die Seitenlängen eines Rechtecks darstellen) und die Fläche des Rechtecks zurückgibt."
   ]
  },
  {
   "cell_type": "code",
   "execution_count": null,
   "metadata": {},
   "outputs": [],
   "source": []
  },
  {
   "cell_type": "markdown",
   "metadata": {
    "slideshow": {
     "slide_type": "slide"
    }
   },
   "source": [
    "### Mehrere Ausgaben\n",
    "* Funktionen können mehr als ein Ausgabeargument haben:"
   ]
  },
  {
   "cell_type": "code",
   "execution_count": null,
   "metadata": {},
   "outputs": [],
   "source": [
    "def plusminus(a, b):\n",
    "    return a+b, a-b\n"
   ]
  },
  {
   "cell_type": "code",
   "execution_count": null,
   "metadata": {},
   "outputs": [],
   "source": [
    "c, d = plusminus(1, 2);\n",
    "print(c, d)"
   ]
  },
  {
   "cell_type": "markdown",
   "metadata": {
    "slideshow": {
     "slide_type": "slide"
    }
   },
   "source": [
    "### Keine Ausgaben\n",
    "Eine Funktion ohne eine `return`-Anweisung gibt `None` zurück, wie die `print`-Funktion."
   ]
  },
  {
   "cell_type": "code",
   "execution_count": null,
   "metadata": {},
   "outputs": [],
   "source": [
    "def greet(name):\n",
    "    print(\"Hallo\", name)"
   ]
  },
  {
   "cell_type": "code",
   "execution_count": null,
   "metadata": {},
   "outputs": [],
   "source": [
    "a = greet(\"Simon\")"
   ]
  },
  {
   "cell_type": "code",
   "execution_count": null,
   "metadata": {},
   "outputs": [],
   "source": [
    "print(a)"
   ]
  },
  {
   "cell_type": "markdown",
   "metadata": {},
   "source": [
    "Mit anderen Worten, das Fehlen einer `return`-Anweisung ist gleichbedeutend mit\n",
    "```Python\n",
    "return None\n",
    "```"
   ]
  },
  {
   "cell_type": "markdown",
   "metadata": {
    "slideshow": {
     "slide_type": "slide"
    }
   },
   "source": [
    "### Schlüsselwortargumente\n",
    "* Anstelle von *positionalen Argumenten* können wir auch *Schlüsselwortargumente* übergeben:"
   ]
  },
  {
   "cell_type": "code",
   "execution_count": null,
   "metadata": {
    "slideshow": {
     "slide_type": "-"
    }
   },
   "outputs": [],
   "source": [
    "def mypower(x, y):\n",
    "    return x**y \n",
    "print(mypower(3, 2))\n",
    "print(mypower(y=2, x=3) )"
   ]
  },
  {
   "cell_type": "markdown",
   "metadata": {
    "slideshow": {
     "slide_type": "slide"
    }
   },
   "source": [
    "### Defaultargumente\n",
    "* Funktionen können *Defaultargumente* angeben:"
   ]
  },
  {
   "cell_type": "code",
   "execution_count": null,
   "metadata": {},
   "outputs": [],
   "source": [
    "def mypower(x, y=2):  # Defaultargumente müssen am Ende stehen    \n",
    "    return x**y \n",
    "mypower(3)"
   ]
  },
  {
   "cell_type": "code",
   "execution_count": null,
   "metadata": {},
   "outputs": [],
   "source": [
    "mypower(3, 3)"
   ]
  },
  {
   "cell_type": "markdown",
   "metadata": {
    "slideshow": {
     "slide_type": "slide"
    }
   },
   "source": [
    "### Übung, Fortsetzung\n",
    "Schreiben Sie eine Funktion `area`, die zwei Zahlen als Eingabe nimmt (die die Seitenlängen eines Rechtecks darstellen) und die Fläche des Rechtecks zurückgibt. Wenn die zweite Eingabe nicht angegeben wird, soll die Funktion die Fläche eines Quadrats mit der Seitenlänge der ersten Eingabe berechnen.\n",
    "\n",
    "Hinweis: Lassen Sie die zweite Eingabe standardmäßig auf `None` gesetzt.\n",
    "\n",
    "Erwartete Ausgabe:\n",
    "```Python\n",
    "area(2, 3) # sollte 6 zurückgeben\n",
    "area(2)    # sollte 4 zurückgeben\n",
    "```"
   ]
  },
  {
   "cell_type": "code",
   "execution_count": null,
   "metadata": {},
   "outputs": [],
   "source": []
  },
  {
   "cell_type": "markdown",
   "metadata": {
    "slideshow": {
     "slide_type": "slide"
    }
   },
   "source": [
    "## Zusammenfassung / weiterführende Literatur (optional)\n",
    " * Optionales Notebook \"Mehr über Funktionen\"\n",
    " * https://www.w3schools.com/python/python_functions.asp\n",
    " * https://python-course.eu/python-tutorial/functions.php\n",
    " \n",
    "## Hausaufgabe\n",
    " * Anfängerübung 16 von https://holypython.com/beginner-python-exercises/\n",
    " * Übungen 2, 3, 6, 9 (schwierig), 10, 16 von https://www.w3resource.com/python-exercises/python-functions-exercises.php\n"
   ]
  }
 ],
 "metadata": {
  "celltoolbar": "Slideshow",
  "kernelspec": {
   "display_name": "Python 3 (ipykernel)",
   "language": "python",
   "name": "python3"
  },
  "language_info": {
   "codemirror_mode": {
    "name": "ipython",
    "version": 3
   },
   "file_extension": ".py",
   "mimetype": "text/x-python",
   "name": "python",
   "nbconvert_exporter": "python",
   "pygments_lexer": "ipython3",
   "version": "3.13.5"
  },
  "livereveal": {
   "start_slideshow_at": "selected"
  }
 },
 "nbformat": 4,
 "nbformat_minor": 4
}
